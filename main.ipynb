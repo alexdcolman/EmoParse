{
 "cells": [
  {
   "cell_type": "markdown",
   "id": "d99b7992-cbb5-4f07-a637-8eebddaded61",
   "metadata": {},
   "source": [
    "# 1. Prueba de módulo \"webscraping\"\n",
    "\n",
    "**scrap_discursos:** Scrap de discursos desde una web paginada con links individuales por discurso.\n",
    "\n",
    "Parámetros:\n",
    "- base_url (str): URL de inicio.\n",
    "- xpaths (dict): Diccionario con claves: 'link_items', 'boton_siguiente', 'titulo', 'fecha', 'contenido'.\n",
    "- espera (int): Tiempo de espera entre interacciones.\n",
    "- paginas (int): Número máximo de páginas a recorrer.\n",
    "- articulos_maximos (int): Límite de discursos a scrapear.\n",
    "- headless (bool): Si True, navegador sin interfaz.\n",
    "- verbose (bool): Si True, muestra estado.\n",
    "- output_path (str): Ruta opcional para guardar CSV.\n",
    "\n",
    "Retorna:\n",
    "- DataFrame con columnas: 'url', 'titulo', 'fecha', 'contenido', 'codigo'"
   ]
  },
  {
   "cell_type": "code",
   "execution_count": 7,
   "id": "668e1d8a-32af-4065-968f-d47beed4c337",
   "metadata": {},
   "outputs": [
    {
     "name": "stdout",
     "output_type": "stream",
     "text": [
      "🌐 Página 1\n",
      "➕ 40 nuevos links\n",
      "\n",
      "🔗 Total de links únicos obtenidos: 1\n",
      "\n",
      "📄 (1/1) Procesando: https://www.casarosada.gob.ar/informacion/discursos/51036-palabras-del-presidente-de-la-nacion-javier-milei-en-la-derecha-fest-cordoba\n",
      "📝 Palabras del Presidente de la Nación, Javier Milei, en La Derecha Fest, Córdoba (Martes 22 de julio de 2025) - 6640 palabras\n",
      "\n",
      "✅ Archivo 'C:\\PROYECTOS\\Primer MVP1\\data\\discursos.csv' guardado correctamente.\n"
     ]
    },
    {
     "data": {
      "text/html": [
       "<div>\n",
       "<style scoped>\n",
       "    .dataframe tbody tr th:only-of-type {\n",
       "        vertical-align: middle;\n",
       "    }\n",
       "\n",
       "    .dataframe tbody tr th {\n",
       "        vertical-align: top;\n",
       "    }\n",
       "\n",
       "    .dataframe thead th {\n",
       "        text-align: right;\n",
       "    }\n",
       "</style>\n",
       "<table border=\"1\" class=\"dataframe\">\n",
       "  <thead>\n",
       "    <tr style=\"text-align: right;\">\n",
       "      <th></th>\n",
       "      <th>url</th>\n",
       "      <th>titulo</th>\n",
       "      <th>fecha</th>\n",
       "      <th>contenido</th>\n",
       "      <th>codigo</th>\n",
       "    </tr>\n",
       "  </thead>\n",
       "  <tbody>\n",
       "    <tr>\n",
       "      <th>0</th>\n",
       "      <td>https://www.casarosada.gob.ar/informacion/disc...</td>\n",
       "      <td>Palabras del Presidente de la Nación, Javier M...</td>\n",
       "      <td>Martes 22 de julio de 2025</td>\n",
       "      <td>Palabras del Presidente de la Nación, Javier M...</td>\n",
       "      <td>DISCURSO_001</td>\n",
       "    </tr>\n",
       "  </tbody>\n",
       "</table>\n",
       "</div>"
      ],
      "text/plain": [
       "                                                 url  \\\n",
       "0  https://www.casarosada.gob.ar/informacion/disc...   \n",
       "\n",
       "                                              titulo  \\\n",
       "0  Palabras del Presidente de la Nación, Javier M...   \n",
       "\n",
       "                        fecha  \\\n",
       "0  Martes 22 de julio de 2025   \n",
       "\n",
       "                                           contenido        codigo  \n",
       "0  Palabras del Presidente de la Nación, Javier M...  DISCURSO_001  "
      ]
     },
     "execution_count": 7,
     "metadata": {},
     "output_type": "execute_result"
    }
   ],
   "source": [
    "from modulos.webscraping import xpaths_casarosada, scrap_discursos\n",
    "import modulos.paths as paths\n",
    "\n",
    "df = scrap_discursos(\n",
    "    base_url=\"https://www.casarosada.gob.ar/informacion/discursos\",\n",
    "    xpaths=xpaths_casarosada,\n",
    "    espera=3,\n",
    "    paginas=5,\n",
    "    articulos_maximos=1,\n",
    "    headless=True,\n",
    "    verbose=True,\n",
    "    output_path=paths.discursos\n",
    ")\n",
    "\n",
    "df.head()"
   ]
  },
  {
   "cell_type": "markdown",
   "id": "e1b93f35-d7f9-4e8e-9835-8ed330c7c0b5",
   "metadata": {},
   "source": [
    "# 2. Prueba de módulo \"preprocesamiento\"\n",
    "\n",
    "## 2.1. Segmentación en recortes\n",
    "\n",
    "**generar_recortes:** Convierte una base de discursos en una base de recortes frase a frase.\n",
    "\n",
    "Parámetros:\n",
    "- df_discursos (DataFrame): Debe tener columnas 'titulo' y 'contenido'.\n",
    "- agregar_codigo (bool): Si True, genera columna 'codigo' con formato DISCURSO_001...\n",
    "- prefijo_codigo (str): Prefijo para los códigos asignados.\n",
    "- guardar (bool): Si True, guarda la base generada como CSV.\n",
    "- output_path (str): Ruta del archivo CSV de salida (requerido si guardar=True).\n",
    "\n",
    "Retorna:\n",
    "- DataFrame con columnas: 'codigo', 'recorte_id', 'posicion', 'frase'."
   ]
  },
  {
   "cell_type": "code",
   "execution_count": 8,
   "id": "89b7d00e-3de9-494b-99ed-433a3c785372",
   "metadata": {},
   "outputs": [
    {
     "name": "stdout",
     "output_type": "stream",
     "text": [
      "✅ Archivo CSV generado correctamente.\n",
      "📄 Ruta: C:\\PROYECTOS\\Primer MVP1\\data\\recortes.csv\n",
      "🧾 La base tiene 242 observaciones (frases).\n"
     ]
    }
   ],
   "source": [
    "import pandas as pd\n",
    "import modulos.paths as paths\n",
    "from modulos.preprocesamiento import generar_recortes\n",
    "\n",
    "# Cargar discursos scrapeados\n",
    "df_discursos = pd.read_csv(paths.discursos, encoding=\"utf-8-sig\")\n",
    "\n",
    "# Generar recortes y guardar\n",
    "df_recortes = generar_recortes(df_discursos, guardar=True, output_path=paths.recortes)"
   ]
  },
  {
   "cell_type": "markdown",
   "id": "9663b9d2-9bdd-42fb-a744-9b774b92ed6a",
   "metadata": {},
   "source": [
    "## 2.2. Filtrado de discursos por cantidad de frases (mínimo: 24, para series temporales)\n",
    "\n",
    "**filtrar_discursos:** Filtra los códigos que tienen al menos `umbral` frases en `df_recortes`, y opcionalmente guarda los resultados si se indican los paths.\n",
    "\n",
    "Parámetros:\n",
    "- df: DataFrame original con los textos completos.\n",
    "- df_recortes: DataFrame con las frases (recortes) y la columna 'codigo'.\n",
    "- umbral: Cantidad mínima de frases necesarias para conservar un código.\n",
    "- guardar: Si True, guarda los DataFrames filtrados y la lista de códigos eliminados.\n",
    "- path_discursos: Ruta para guardar el CSV de discursos filtrados.\n",
    "- path_recortes: Ruta para guardar el CSV de recortes filtrados.\n",
    "- path_codigos_eliminados: Ruta para guardar el TXT con los códigos eliminados.\n",
    "\n",
    "Retorna:\n",
    "- df_filtrado: DataFrame con discursos filtrados.\n",
    "- df_recortes_filtrado: DataFrame de recortes correspondientes a los discursos filtrados.\n",
    "- codigos_eliminados: lista de códigos de discursos eliminados.\n",
    "- codigos_validos : lista de códigos de discursos válidos.\n",
    "- conteo_frases: DataFrame con el conteo total de frases por código, antes del filtrado."
   ]
  },
  {
   "cell_type": "code",
   "execution_count": 9,
   "id": "5353fcbf-00b8-4c99-aadf-7d7369639af3",
   "metadata": {},
   "outputs": [
    {
     "name": "stdout",
     "output_type": "stream",
     "text": [
      "Cantidad de frases por código (primeras filas):\n",
      "         codigo  cantidad_frases\n",
      "0  DISCURSO_001              242\n",
      "\n",
      "✅ Códigos con al menos 24 frases: 1\n",
      "❌ Códigos eliminados (menos de 24 frases): 0\n",
      "\n",
      "📄 Textos originales tras el filtro: 1\n",
      "🧾 Frases tras el filtro: 242\n",
      "\n",
      "💾 Archivos guardados:\n",
      "- Discursos: C:\\PROYECTOS\\Primer MVP1\\data\\discursos_filtrado.csv\n",
      "- Recortes: C:\\PROYECTOS\\Primer MVP1\\data\\recortes_filtrado.csv\n",
      "- Códigos eliminados: C:\\PROYECTOS\\Primer MVP1\\data\\codigos_eliminados.txt\n"
     ]
    }
   ],
   "source": [
    "import pandas as pd\n",
    "import modulos.paths as paths\n",
    "from modulos.preprocesamiento import filtrar_discursos\n",
    "\n",
    "df = pd.read_csv(paths.discursos, encoding=\"utf-8-sig\")\n",
    "df_recortes = pd.read_csv(paths.recortes, encoding=\"utf-8-sig\")\n",
    "\n",
    "df_filtrado, df_recortes_filtrado, codigos_eliminados, codigos_validos, conteo_frases = filtrar_discursos(\n",
    "    df=df,\n",
    "    df_recortes=df_recortes,\n",
    "    umbral=24,\n",
    "    guardar=True,\n",
    "    path_discursos=paths.discursos_filtrado,\n",
    "    path_recortes=paths.recortes_filtrado,\n",
    "    path_codigos_eliminados=paths.codigos_eliminados\n",
    ")"
   ]
  },
  {
   "cell_type": "markdown",
   "id": "0455a48f-415a-4fd3-8a00-4820ededaa59",
   "metadata": {},
   "source": [
    "## 2.3. Limpieza y preprocesamiento\n",
    "\n",
    "**procesar_textos:** Procesa textos en una columna de un DataFrame aplicando limpieza y análisis lingüístico.\n",
    "\n",
    "Parámetros:\n",
    "- df (pd.DataFrame): DataFrame original.\n",
    "- columna_texto (str): Nombre de la columna con texto.\n",
    "- texto_limpio (bool): Si se debe incluir columna con texto limpio.\n",
    "- tokens (bool): Si se deben incluir los tokens.\n",
    "- lemmas (bool): Si se deben incluir los lemas.\n",
    "- pos_tags (bool): Si se deben incluir etiquetas POS.\n",
    "- dependencias (bool): Si se deben incluir dependencias sintácticas.\n",
    "- entidades (bool): Si se deben incluir entidades nombradas.\n",
    "- sujetos (bool): Si se debe marcar sujeto omitido por frase.\n",
    "- guardar (bool): Si se debe guardar el resultado a CSV.\n",
    "- path_salida (str): Ruta de salida (obligatoria si guardar=True).\n",
    "\n",
    "Retorna:\n",
    "- pd.DataFrame: DataFrame con columnas nuevas según los flags seleccionados."
   ]
  },
  {
   "cell_type": "code",
   "execution_count": 5,
   "id": "cc2cba3e-5325-42a5-8a54-702a1b2f6a8a",
   "metadata": {
    "scrolled": true
   },
   "outputs": [
    {
     "name": "stdout",
     "output_type": "stream",
     "text": [
      "✅ Archivo guardado: C:\\PROYECTOS\\Primer MVP1\\data\\discursos_preprocesado.csv\n"
     ]
    }
   ],
   "source": [
    "import pandas as pd\n",
    "import modulos.paths as paths\n",
    "from modulos.preprocesamiento import procesar_textos\n",
    "\n",
    "df_filtrado = pd.read_csv(paths.discursos_filtrado, encoding=\"utf-8-sig\")\n",
    "\n",
    "df_resultado = procesar_textos(\n",
    "    df=df_filtrado,\n",
    "    columna_texto=\"contenido\",\n",
    "    texto_limpio=True,\n",
    "    tokens=False,\n",
    "    lemmas=False,\n",
    "    pos_tags=False,\n",
    "    dependencias=False,\n",
    "    entidades=False,\n",
    "    sujetos=False,\n",
    "    guardar=True,\n",
    "    path_salida=paths.discursos_preprocesado\n",
    ")"
   ]
  },
  {
   "cell_type": "code",
   "execution_count": 6,
   "id": "7c14e06d-fa74-4a25-933d-af7ae5b355a8",
   "metadata": {},
   "outputs": [
    {
     "name": "stdout",
     "output_type": "stream",
     "text": [
      "✅ Archivo guardado: C:\\PROYECTOS\\Primer MVP1\\data\\recortes_preprocesado.csv\n"
     ]
    }
   ],
   "source": [
    "df_recortes_filtrado = pd.read_csv(paths.recortes_filtrado, encoding=\"utf-8-sig\")\n",
    "\n",
    "df_resultado = procesar_textos(\n",
    "    df=df_recortes_filtrado,\n",
    "    columna_texto=\"frase\",\n",
    "    texto_limpio=True,\n",
    "    tokens=True,\n",
    "    lemmas=True,\n",
    "    pos_tags=True,\n",
    "    dependencias=True,\n",
    "    entidades=True,\n",
    "    sujetos=True,\n",
    "    guardar=True,\n",
    "    path_salida=paths.recortes_preprocesado\n",
    ")"
   ]
  },
  {
   "cell_type": "markdown",
   "id": "66c5a068-71d7-4d28-8a12-c09a10f841dd",
   "metadata": {},
   "source": [
    "**Nota para optimización:** Ver de que no se dupliquen entidades y dependencias en el archivo"
   ]
  },
  {
   "cell_type": "markdown",
   "id": "34c3a3ca-7b21-4f07-8805-fca8d9460d90",
   "metadata": {},
   "source": [
    "# 3. Prueba de módulo \"resumen\"\n",
    "\n",
    "Este módulo permite generar resúmenes de discursos extensos utilizando un LLM, a través de un enfoque por bloques temáticos. La función principal aplicada es resumir_dataframe.\n",
    "\n",
    "Lógica del procedimiento\n",
    "- Segmentación semántica: el texto se divide en fragmentos según cambios temáticos detectados.\n",
    "- Resumen parcial: cada fragmento se resume individualmente mediante un LLM.\n",
    "- Redacción global: se produce un resumen final fluido e integrado a partir de los resúmenes parciales.\n",
    "\n",
    "**resumir_dataframe:** Genera resúmenes utilizando un LLM para cada fila de un DataFrame que contenga la columna texto_limpio. Utiliza dos tipos de prompts: uno para fragmentos y otro para la redacción final del discurso completo.\n",
    "\n",
    "Parámetros:\n",
    "- df (pd.DataFrame): DataFrame con columnas 'codigo', 'titulo', 'fecha', 'texto_limpio'.\n",
    "- modelo_llm (Callable[[str], str]): Función que toma un prompt (str) y devuelve la respuesta generada por el modelo LLM.\n",
    "- prompt_fragmento (str): Prompt utilizado para resumir cada fragmento segmentado del discurso.\n",
    "- prompt_discurso (str): Prompt utilizado para redactar el resumen global del discurso a partir de los resúmenes parciales.\n",
    "- umbral (float): Umbral de sensibilidad para la segmentación temática. Valores más bajos generan más fragmentos.\n",
    "- guardar (bool): Si es True, guarda el DataFrame resultante en un archivo .csv.\n",
    "- path_salida (str): Ruta del archivo de salida si guardar=True.\n",
    "- mostrar_prompts (bool): Si es True, imprime los prompts utilizados durante la ejecución (útil para debugging).\n",
    "\n",
    "Retorna:\n",
    "- pd.DataFrame: DataFrame con una nueva columna 'resumen' que contiene el resumen generado por LLM para cada discurso."
   ]
  },
  {
   "cell_type": "code",
   "execution_count": 1,
   "id": "d892f9bb-6d8b-4159-8fae-a17a44627751",
   "metadata": {
    "scrolled": true
   },
   "outputs": [
    {
     "name": "stderr",
     "output_type": "stream",
     "text": [
      "C:\\ProgramData\\anaconda3\\envs\\ag_env2\\lib\\site-packages\\sentence_transformers\\cross_encoder\\CrossEncoder.py:13: TqdmExperimentalWarning: Using `tqdm.autonotebook.tqdm` in notebook mode. Use `tqdm.tqdm` instead to force console mode (e.g. in jupyter console)\n",
      "  from tqdm.autonotebook import tqdm, trange\n",
      "C:\\ProgramData\\anaconda3\\envs\\ag_env2\\lib\\site-packages\\requests\\__init__.py:86: RequestsDependencyWarning: Unable to find acceptable character detection dependency (chardet or charset_normalizer).\n",
      "  warnings.warn(\n",
      "INFO:sentence_transformers.SentenceTransformer:Use pytorch device_name: cpu\n",
      "INFO:sentence_transformers.SentenceTransformer:Load pretrained SentenceTransformer: distiluse-base-multilingual-cased-v1\n",
      "C:\\ProgramData\\anaconda3\\envs\\ag_env2\\lib\\site-packages\\huggingface_hub\\file_download.py:943: FutureWarning: `resume_download` is deprecated and will be removed in version 1.0.0. Downloads always resume when possible. If you want to force a new download, use `force_download=True`.\n",
      "  warnings.warn(\n",
      "Generando resúmenes con LLM:   0%|                                                                                                                                                                                    | 0/1 [00:00<?, ?it/s]"
     ]
    },
    {
     "data": {
      "application/vnd.jupyter.widget-view+json": {
       "model_id": "1e0c8aa715a944b48c4a352267a9487e",
       "version_major": 2,
       "version_minor": 0
      },
      "text/plain": [
       "Batches:   0%|          | 0/2 [00:00<?, ?it/s]"
      ]
     },
     "metadata": {},
     "output_type": "display_data"
    },
    {
     "name": "stdout",
     "output_type": "stream",
     "text": [
      "\n",
      "📤 Prompt fragmento:\n",
      "Resumí en español el siguiente fragmento de un discurso político, manteniendo su sentido general, tono e ideas principales. No inventes información y usá lenguaje claro y preciso:\n",
      "hola a todos. che, ¿no van a sacar? ¿cómo es? ¿saquen al pingüino del cajón? ¡viva la libertad, carajo!\n",
      "\n"
     ]
    },
    {
     "name": "stderr",
     "output_type": "stream",
     "text": [
      "INFO:httpx:HTTP Request: POST http://127.0.0.1:11434/api/chat \"HTTP/1.1 200 OK\"\n"
     ]
    },
    {
     "name": "stdout",
     "output_type": "stream",
     "text": [
      "\n",
      "📤 Prompt fragmento:\n",
      "Resumí en español el siguiente fragmento de un discurso político, manteniendo su sentido general, tono e ideas principales. No inventes información y usá lenguaje claro y preciso:\n",
      "primero que nada, quiero extenderle un cálido saludo a mi queridísimo amigo agustín laje como así también a todo el equipo de la derecha diario por organizar este enorme evento. muchas gracias. también quiero agradecer a todos los expositores que me precedieron y, por supuesto, a todos ustedes. y también quiero agradecer a todos aquellos que no pudieron venir, pero nos están siguiendo desde sus casas. son ustedes que dan todo por sacar adelante un país al que años de estatismo descontrolado parecían haber condenado al país a la miseria. son ustedes quienes vieron a sus amigos armar valijas y emigrar, quienes vieron a sus padres sufrir la inflación y las devaluaciones, quienes vieron cómo cada día el sueño y la independencia económica y el progreso se alejaba cada vez más y más. muchachos: yo creo en el orden espontáneo auto-organícense y lo resuelven. ¡vamos! la casta política les robó la ilusión de poder dejarle a sus hijos un mejor país en el cual vivir, les robó nada más ni nada menos que la esperanza, y, sin embargo, en lugar de exiliarse o encerrarse en sus vidas privadas, decidieron emprender la lucha por el futuro, decidieron encarar una gesta heroica desde los márgenes la sociedad, decidieron encarar un grito genuino, un rugido de libertad que terminó tomando el país por asalto. y acá estamos hoy, habiendo hecho en tan solo un solo un año y medio el mejor gobierno de la historia argentina. como siempre sigo: nuestro movimiento tiene tres frentes de batalla, cada uno con sus propias características y su propia importancia: el frente de la gestión, el frente del poder institucional y el frente de la batalla cultural. mediante el primero, aplicamos efectivamente las ideas de la libertad para cambiar las normas del país. esto es muy interesante y que, además, es la base de por qué sostenemos que somos el mejor gobierno de la historia. hasta que llegáramos nosotros al poder el mejor gobierno de la historia había sido el primer gobierno de menem. las características fundamentales de aquel gobierno habían sido, básicamente, un plan de estabilización exitoso, que fue el de la convertibilidad; y un conjunto de reformas estructurales. en términos de plan de estabilización, sin lugar a dudas este programa económico que diseñó el mejor ministro de economía del mundo, \"toto\" caputo, lo supera ampliamente. porque no solo hemos bajado la inflación más rápido, sino que además lo hicimos sin expropiaciones tipo plan bonex. lo hicimos sin tener una hiperinflación o dos hiperinflaciones altas antes; lo hicimos sin controlar precios; lo hicimos sin fijar el tipo de cambio y además a diferencia de los restantes programa de estabilización que ajustaban las tarifas antes de iniciar el programa para que se mostrará un éxito aparente después, nosotros lo estamos haciendo en el medio del programa. si ustedes miran la inflación del último mes, significa que pasamos de niveles del 300 a niveles del 20 y hoy ya salimos del podio mundial de países con más inflación. y, por otra parte, si limpiamos estos efectos de corrección de precios o lo miramos en términos de canasta básica alimentaria o lo miramos en término de canasta básica total, hoy la inflación ya viene viajando en torno al 10. ¡vaya que somos el mejor gobierno de la historia! y, es más, cuando decían que íbamos a hundir a la economía en una gran depresión a la luz del programa de estabilización que estaba siendo exitoso eliminando la inflación, decían que íbamos a hundir a la economía, decían que íbamos a entrar en una gran depresión, decían que íbamos a hambrear a los argentinos y, sin embargo, cuando uno toma el emae, que es la proxy del pbi en frecuencia mensual, en el mes de diciembre del 24 terminamos 6 puntos porcentuales por encima del año 2023. en el primer trimestre crecimos al cinco, seis; y en el segundo lo estamos haciendo al 7, 7. vaya que lo estamos logrando. y como si todo esto fuera poco, los crueles y desalmados liberales, hemos sacado a 12 millones de argentinos de la pobreza. y no solo eso, propiamente unicef además reconoció que hemos sacado 2 millones y medio de niños de la pobreza. por otra parte, mientras el frente lo que tiene que ver con el poder institucional, mediante el segundo este elemento, nos proveemos del poder necesario tanto a nivel ejecutivo y legislativo para avanzar en nuestras ideas, esto determina la profundidad y la velocidad con la cual llevamos adelante el cambio; y eso lo está llevando adelante y pido, por favor, que se ponga de pie: \"el jefe\". y, finalmente, mediante el último o sea, la batalla cultural, aseguremos que estos cambios sean sostenibles en el largo plazo, educando al soberano. en definitiva, que quienes tengan ojos, empiecen a verla. en el frente de la gestión partimos de tener que enfrentar a los degenerados fiscales. heredamos un estado gigante, quebrado y corrupto, que hundió a la gente la miseria. un estado que, en definitiva, odiaba a sus ciudadanos y que, en consecuencia, se ganó el odio de todos ellos, y con justa razón. si bien este primer año y medio fue difícil, dejamos en claro mediante actos desde el primer momento que nosotros sí vinimos a cambiar las cosas de raíz, y eso es la segunda pata que explica por qué somos el mejor gobierno de historia, porque a este plan de estabilización se suma a las reformas estructurales. cuando se terminaron las facultades delegadas, el doctor sturzenegger, \"el coloso\" federico sturzenegger, el arquitecto de esta reforma, contaba que con facultades delegadas eso solamente explicaba el 5 del trabajo, es decir, que si ustedes corrigen los 101 organismos y reformas que se hicieron con facultades delegadas, y saben que eso es el 5, significa que solamente federico sturzenegger hizo 2.000 reformas estructurales. y si a eso le sumamos el dnu 7023 y la ley bases, aún en sus versiones corregidas, estamos en condiciones de afirmar que hicimos 2.800 reformas estructurales, 28 veces más que las que hizo menem. y, es más, si uno lo tomara por modificaciones de articulados, que lo que hacían era dificultar la actividad, como cuando por ejemplo federico cuenta el caso de la sandía o cuenta el caso de la chatarra y demás, eso es una modificación de un artículo, pero que, claramente, es una reforma estructural. y si lo tomamos en términos de artículos que han modificado la vida de millones de argentinos, las reformas del doctor sturzenegger llegan a 7.200, y si sumamos dnu y bases estamos en 8000 reformas estructurales. ¡vaya que sí trabajamos en un año y medio! en el fondo, en un año y medio hemos borrado cien años de dirigismo y no vamos a parar hasta ser el país más libre del mundo. sin embargo, esto no es suficiente. ahora nos toca trasladar todas las victorias en el frente de gestión al frente institucional, para poder seguir acelerando en este camino reformista, porque somos verdaderamente reformistas extremos, orgullosos de ser reformistas extremos. la batalla por los votos es una larga marcha, imagínense que hoy solo contamos con el 15 de los diputados y 10 de los senadores, pero aún así es una marcha que solo va en una dirección porque el país que nos llegó, el partido del estado fue desastroso y resultó tan evidente para la sociedad que todos fueron cómplices de un mismo sistema, que ya es una causa perdida para ellos presentarse a elecciones. la gente no los quiere ver ni en figuritas. por eso muchos se van a sorprender con los resultados de octubre. y si bien confiamos en que los votos van a acompañar los logros de la gestión, el tercer frente de batalla la batalla cultural tiene otro nivel de dificultad. el campo cultural es donde se disputan los conceptos que sirven de justificación para la implementación de políticas públicas y planes de gobierno. es donde se disputa quién tiene razón y porqué. la historia ha dado repetidas muestras de que quien se impone en la cultura termina prevaleciendo en la arena política. agustín laje, dixit. pues es la cultura la que genera los términos mediante los cuales la gente piensa y actúa luego en la realidad, la izquierda lo sabe perfectamente y se ha dedicado desde hace décadas a infiltrarse en todas las instituciones occidentales, subvirtiendo sus valores y moldeándolas a su gusto. de esta manera, llegamos a un estado en el que los políticos, empresaurios, sindigarcas, perisobres y todo el resto de los integrantes de la casta, implementaron un conjunto de ideas antilibertad para legitimarse a sí mismo y a sus ideas entre la población. digo uno que tiene la cabeza contaminada de todos los parásitos mentales que andan dando vueltas, los que sabe y los que no sabe también. pero quédense tranquilos que ya voy a llegar a las a los aportes de mi amigo axel kaiser, pero deme el tiempo. estoy con los de laje por ahora. esas ideas se instalan en la mente de millones de seres humanos y se contagian como parásitos mentales hasta que se vuelven inconfundibles del ideario popular. así llegamos a una situación en la que se dan por válidas una lista de cuestiones que no están ni cerca de serlo, como plasmó mi amigo axel kaiser en su libro, podemos reducirlas a siete. la primera de ellas es la justicia social, que de justicia no tiene nada; dado que de parte de la injusticia de arrebatarle a uno por la fuerza para darle a otro. esto constituye una desigualdad ante la ley para ser caridad con dinero ajeno, este parásito apela la culpa moral y mediante un intento de lucha de clases da por válido cualquier nivel de intervención estatal, desplazando la idea de la responsabilidad individual y haciéndolos esclavos del estado porque, en el fondo, la justicia social es injusta; porque como señalaba ahí está precedida de un robo, y por otra parte, implica tratar desigual frente a la ley, lo cual es profundamente violento, es profundamente injusto y además conduce inexorablemente a la miseria. a su vez, esto le abre el juego al segundo parásito, que es la idea de los derechos sociales. de hecho, hoy hice un tuit acerca de estas ideas, de cómo, por ejemplo, contaminan el cerebro del soviético. esta idea busca generar expectativas ilimitadas en la gente sosteniendo que cada necesidad es un derecho y que todos los derechos requieren intervención estatal y gasto público. el problema está en que para poder cumplir con semejante disparate habría que incumplir la primera ley de la economía, que es la ley de la escasez. a ver hay una frase maravillosa de thomas sowell que dice: \"la primera ley de la economía es la escasez. no hay de todo para todos\". y la segunda reflexión que hace es que la primera ley de la política es ignorar la primera ley de la economía y vaya que de esto los populistas saben o acaso semanas atrás no votaron un gasto de 17.000 millones de dólares y la bruta traidora dijo que lo iba a financiar con 30. así es fácil chicanear, pero sugiero que, antes de hacer chicanas, aprendan a sumar 2 2; y ni les cuento lo que significa en términos dinámicos un buraco de 2.8 del pbi, implica un aumento de la relación deuda-producto de más de 60 puntos porcentuales e implica enviar al cazzo a todos nuestros jóvenes es arruinar el país de acá a la eternidad. porque, además, plantea una brutal inconsistencia, porque si a cada una de nuestras necesidades lo vamos a llamar derecho, el problema es que después esos derechos hay que pagarlos, y para pagarlos hay que utilizar recursos, y esos recursos son finitos. por ende, esa estupidez inmunda de donde hay una necesidad nace un derecho, el problema es que lleva continuamente a violar la restricción de presupuesto, eso en argentina no solo ha derivado en una brutal inflación, a sacarle trece ceros a la moneda que podríamos sacarles tres más, a ser el país con mayor cantidad de defaults en la historia, a tener la presión fiscal en blanco más alta del mundo, sino que, además, esas ideas nefastas han hecho de que ser uno de los países más ricos del mundo. ¡nos mandaron a la b! en definitiva, esto lo hacen, en realidad, para expandir el alcance del estado, lo cual nos da lugar a hablar de la tercera idea expuesta por kaiser, que es la idea del estado benefactor. en el capítulo, en el libro ese del cuarto, el neoliberalismo viene tercero, pero ese lo trato después. así, la idea del estado benefactor, un estado paternalista de como si fuese un dios todopoderoso, debería proveernos de todo lo que necesitamos. lo que eluden en este tipo de afirmación es quien genera la riqueza y los recursos. en primer lugar, es el sector privado y para que el estado los provea debería robárselos mediante impuestos y burocracias, sacrificando el crecimiento económico; que debe ser lo que debe estar pensando la alta política. y esto es así porque esto termina generando sociedades más dependientes y una política donde las elecciones las gana, el que más promete. pero como dijo francisco de quevedo: nadie ofrece tanto como el que no va a cumplir. porque los que hoy se ocupan de las jubilaciones, son los mismos que dejaron jubilaciones de ochenta dólares, cuando hoy las jubilaciones están arriba de 350 dólares en una economía más abierta. por ende, cada dólar compra más que antes. y como detalle no menor, aquellos que se jubilaron con el total de los aportes, esas jubilaciones están entre 700 y 800 dólares. vengan a hablar de pensar en los jubilados si los que sacamos gente de la pobreza somos nosotros y no que ellos nos hundieron con el impuesto inflacionario. por otro lado, también esquiva la noción de que cuando el estado se arroga cuestiones que no le competen, naturalmente termina descuidando las cuestiones que sí le importan. lo cual está este tema en este gobierno está bajo discusión todo el tiempo, digo, qué puede hacer y qué no puede hacer el estado. pero, en la transición, lo que sí hay que dejar bien en claro que este tipo de igualitarismo a lo único que termina conduciendo, ya sea la idea de la justicia social o la justicia social 2.0, que es los derechos sociales, terminan llevando esa hermosa frase \"igualdad de oportunidades\", si afortunadamente, y gracias a dios, somos todos distintos. eso fomenta la división del trabajo, la cooperación social, hace que las sociedades prosperen, sean más ricas y, además, como decía bastiat: \"donde entra el comercio no entran las balas\". y estos brutos igualitaristas generan una sociedad profundamente violenta, autoritaria y que, además, viven para el orto y se cagan de hambre. entonces, frente a ese fracaso que tienen continuamente, aparece también otro concepto parasitario que es el de neoliberalismo. no es casualidad que ningún izquierdista sepa definir precisamente qué es neoliberalismo. se trata de un concepto meramente emocional de la izquierda, que tiene por objetivo crear un cuco para cuando gobiernan y un chivo expiatorio para cuando fracasan, y generar rechazo a cualquier reforma pro mercado cuando no tienen el poder, pero no tienen un contenido real es solo un fantasma, un cuco. por lo tanto, es nuestra tarea encender la luz y que vean que el cuco no existe. porque, en el fondo, en realidad, a quienes están injuriando es simplemente a quienes buscan ordenar los desastres que ellos dejan a su paso, porque si hay algo que hacen a la perfección es dejar infiernos fiscales y financieros cuando terminan sus gobiernos. es así, que el que tiene la ingrata tarea de ordenar el desorden, en general, tiene de antemano una un apodo preparado \"neoliberal\". sin ir más lejos, nos dejaron 57 de pobres, 70 de niños pobres, una inflación diaria del uno y pico por ciento, que ha anualizado era el 17.000; reservas internacionales negativas en 12.000 millones de dólares, cuatro bases monetarias venciendo a un día, deuda en pesos venciendo a tres meses por el equivalente de 9 bases monetarias, es decir, que, en menos de tres meses, nos iban a hacer multiplicar la cantidad de dinero por 14 veces. no solo eso, sino que además el curro de las sira donde se patinaron 45 mil millones de dólares, donde no dejaron desastre por hacer, y esa manga de inmorales vienen a hablarnos a nosotros que estamos sacando el país adelante donde somos fruto de admiración en todo el mundo y se habla del milagro argentino. y ni que hablar del déficit fiscal que nos dejaron, que eran cinco puntos del pbi en el tesoro y diez en el banco central. recuerdo que cuando estaba en campaña y yo hablaba de hacer el ajuste fiscal, decían que era imposible, que estaba loco y no sé cuántas otras cosas más. ya está. digamos, sale ahora. ya entró. ahora el veto sale próximamente. en ese sentido, decían que como mucho, como mucho se podía ajustar un punto por año y nosotros decíamos que íbamos a alcanzar el equilibrio fiscal en el primer año; y después de 123 años de déficit fiscal, ininterrumpido, porque solamente hubo equilibrio fiscal cuando estábamos en default, o sea, no pagando la deuda por eso me causa gracia cuando dicen: no, que estamos maquillando la deuda, menos mal; digo, ellos colaboraban equilibrio con default. y, en ese contexto, hicimos el ajuste fiscal más grande de la historia de la humanidad en un mes, pusimos las cuentas públicas en orden en un mes, en la línea financiera. y, a su vez, a los seis meses terminamos saneando el balance del banco central. algo que nadie hablaba de cómo se limpiaba el balance del banco central. gracias a la tarea enorme de santiago bausili, presidente del banco central, y el secretario de finanzas, pablo quirno. pero, claro y cuál es la argumentación de los primates, más conocidos como mandriles. dicen que nos endeudamos esto es interesante porque cuando el kirchnerismo llegó al poder, la deuda pública en argentina era de 140.000 millones de dólares. cuando nosotros llegamos al poder, la deuda consolidada, porque siempre se olvidan de sumar los desastres que hacen en el banco central, era de 500.000 millones de dólares. con lo cual, aumentó la deuda 360.000 millones de dólares. si limpiamos la que tuvo macri, que fueron 60 mil millones de dólares, el kirchnerismo, que habla de endeudamiento, nos endeudó en 300 mil millones de dólares. es el movimiento político más endeudador de la historia política argentina. y mientras que esos hipotecadores del futuro porque recuerden que la deuda son impuestos futuros, por lo tanto, son futuros que cargan sobre nuestros hijos, sobre nuestros nietos y las distintas generaciones. mientras que esos inmorales, ladrones que están empezando a pagar, nos acusan de endeudar; somos el primer gobierno de la historia argentina que baja la deuda en 50 mil millones de dólares en un año. por lo tanto, cuando estos inmorales hablan de neoliberalismo es que esa palabra puede significar cualquier cosa, ya que solo se refiere a los enemigos del expansionismo estatal ilimitado. es así, que con él también engloban al empresariado ocupado de preservar su negocio. esto lleva a la idea de la responsabilidad social empresaria. hay muchas empresas se sienten presionadas para defender causas sociales, pero en la mayoría de los casos, es una simulación guiada por preceptos de marketing. el problema de esta simulación moralizante es que las empresas descuidan su función principal que es crear valor, de la cual se deriva la generación de empleo y otros beneficios sociales reales. esto ya fue resuelto por el gran milton friedman, el empresario sólo por perseguir el beneficio económico dentro de los márgenes de la ley, ya es un benefactor social porque sólo puede hacerse rico dándole al prójimo un bien de mejor calidad a un mejor precio que el resto. para ellos, por otro lado, ser un benefactor social es someterse a sus mandatos arbitrarios, es así, que a la ya estresante tarea de llevar adelante un negocio le suman el peso de cargar tanto con un estado elefantiásico como beneficencia forzosa. no hay beneficencia a punta de pistola, la caridad si no es voluntaria, no es caridad.\n",
      "\n"
     ]
    },
    {
     "name": "stderr",
     "output_type": "stream",
     "text": [
      "INFO:httpx:HTTP Request: POST http://127.0.0.1:11434/api/chat \"HTTP/1.1 200 OK\"\n"
     ]
    },
    {
     "name": "stdout",
     "output_type": "stream",
     "text": [
      "\n",
      "📤 Prompt fragmento:\n",
      "Resumí en español el siguiente fragmento de un discurso político, manteniendo su sentido general, tono e ideas principales. No inventes información y usá lenguaje claro y preciso:\n",
      "y, en este sentido, así también surgieron las nefastas ideas de promover la diversidad, equidad e inclusión, tanto en las empresas como la sociedad en general. se reemplazó la igualdad ante la ley por la discriminación positiva de colectivos sociales, dejamos de privilegiar la excelencia y la idoneidad para empezar a usar criterios genéricos o étnicos. esto fragmenta la sociedad, enfrasca en luchas inventadas mientras que hace que todos pierdan la fe, la neutralidad de las instituciones, el estado moderno se fragmenta en mil pedazos. por suerte, en argentina solo el estado sufrió esta perversión del derecho, ya que nuestra desconexión del resto del mundo mitigó el impacto de este parásito en particular. y como frutilla del postre de todas estas ideas parasitarias, las ganas de criticar la civilización en la que viven los lleva a romantizar exageradamente la vida salvaje. criticar el modelo que sacó de la pobreza extrema al 90 de la humanidad es un disparate por donde se lo mire. por eso deben disfrazar estas críticas ridículas bajo ideas bienpensantes, que tienen poco que ver con la realidad y mucho con su ideología. así le endilgan a las culturas primitivas ideales de pureza, armonía natural y resistencia contra las maldades de la vida moderna. según esta idea, todos los indígenas eran respetuosos al extremo de la naturaleza, respetuosos con otras tribus y desconocían la crueldad en cualquiera de sus formas. parece que están flojitos de papeles en la historia. se supone que los zurdos saben de historia, se supone, pero parece que solamente saben la historia según la contó el que se fumó la plata del padre, que se casó con una millonaria y le fumó la riqueza y le hizo hijos a la empleada doméstica. ah, y después vivió de su amigo hasta que se murió. claro, el rey de los parásitos, carlos marx. con esa pantomima de sabiduría ancestral, pretenden hacernos creer que el mundo era perfecto hasta que surgió el comercio. legitiman así políticas destructivas para naciones en vía de desarrollo como el ambientalismo y antidesarrollo o la legitimidad del estado moderno. para colmo, esto lo enseñan como verdadero en importantes universidades bajo el mote de \"anticolonialismo\"; al igual que tantas otras barrabasadas con las que nos bombardean tanto tiempo. bajó la expansión de estas ideas ya sea en la academia, los medios de comunicación, las oficinas públicas o incluso en las películas de hollywood, la izquierda se ha arreglado para poner de su lado a las personas más prestigiosas de cada sociedad, utilizándolas como vehículo de su ideología; más gramsci imposible. digo, la educación, la cultura y los medios, todos zurdos. y todo esto financiado a costa de los impuestos de los ciudadanos prósperos y pujantes, a quienes se encargaron de demonizar como si fueran el origen de todos los males. este es un juego en el que hoy, lamentablemente, partimos con desventaja; debemos reconocer que ellos lo hicieron mejor. cuando reconozcamos que ellos lo hicieron mejor, la batalla cultural, vamos a estar en condiciones de llevarlos por encima y mucho de eso es gracias a agustín laje, a nicolás márquez, a ballerini, a axel kaiser y a otros tantos gigantes del pensamiento que han empezado a dar esta batalla cultural como verdaderos gladiadores. y ni que hablar ese \"coloso\" que los asusta desde el streaming, el \"gordo dan\".\n",
      "\n"
     ]
    },
    {
     "name": "stderr",
     "output_type": "stream",
     "text": [
      "INFO:httpx:HTTP Request: POST http://127.0.0.1:11434/api/chat \"HTTP/1.1 200 OK\"\n"
     ]
    },
    {
     "name": "stdout",
     "output_type": "stream",
     "text": [
      "\n",
      "📤 Prompt fragmento:\n",
      "Resumí en español el siguiente fragmento de un discurso político, manteniendo su sentido general, tono e ideas principales. No inventes información y usá lenguaje claro y preciso:\n",
      "si bien el liberalismo supo ponerse a la vanguardia de la batalla cultural, cambiando el curso de la historia humana desde su nacimiento, en el siglo xvii, durante el último siglo ha perdido terreno frente al colectivismo. los liberales descuidamos la batalla por las ideas y le dejamos las puertas abiertas al flagelo de la izquierda. por eso, no podemos perder un segundo más, nuestras ideas son mejores, pero la evidencia dice que con eso no es suficiente. hay que saber comunicarlas y por eso debemos emular a la izquierda en este aspecto haciendo nuestra propia larga marcha sobre los distintos lugares de influencia, en cada plaza, en cada concejo deliberante, en cada onda de radio y cada canal de televisión del país debe ver a alguien defendiendo y promoviendo las ideas de la libertad. y debemos hacerlo de manera sostenida para que, tarde o temprano, la izquierda no haya sido más que un mal sueño. se lo dice a alguien que durante diez años la peleó en los medios y ya llevaba casi quince peleando desde la academia. es decir, hay que dar la batalla, aunque parezca una tarea quijotesca. solamente los locos son los que pueden soñar un futuro y son los que, además, tienen las bolas para cambiar, los que verdaderamente lo hacen. en este sentido, ustedes, al tomar la decisión de luchar han decidido convertirse en verdaderos soldados de la batalla cultural, de la batalla por las ideas, que es la que le va a dar sostenibilidad en el tiempo a este camino de gloria que estamos iniciando desde que llegamos al gobierno. porque verla es también ver el estado en el que cien años de estatismo descontrolado dejaron a nuestra discusión pública, 100 años en los que fuimos progresivamente infectados en todas nuestras instituciones por ideas contrarias a la libertad y al verdadero progreso, 100 años en los que todas las instituciones que alguna vez destinaron nuestro país a la grandeza fueron infectadas por parásitos ideológicos. pero es importante entender que la mayoría de la gente ha internalizado estas ideas contagiosas meramente porque es lo único que conocieron y porque además estos parásitos se alimentan de lo más noble que tiene la gente, que es su sentido de humanidad y sus buenas intenciones. pero aún así poseen el germen de la libertad dentro suyo y pueden aún ser persuadidos a cambiar de opinión, por eso es tan importante la batalla cultural.\n",
      "\n"
     ]
    },
    {
     "name": "stderr",
     "output_type": "stream",
     "text": [
      "INFO:httpx:HTTP Request: POST http://127.0.0.1:11434/api/chat \"HTTP/1.1 200 OK\"\n"
     ]
    },
    {
     "name": "stdout",
     "output_type": "stream",
     "text": [
      "\n",
      "📤 Prompt fragmento:\n",
      "Resumí en español el siguiente fragmento de un discurso político, manteniendo su sentido general, tono e ideas principales. No inventes información y usá lenguaje claro y preciso:\n",
      "por eso quiero darle su mensaje de esperanza. tenemos aquí una hermosa reflexión para hacer, en el año 2023, los argentinos decidieron un cambio de rumbo, el cual tenemos que confirmarlo en septiembre en la provincia de buenos aires, en cada provincia y dar un tremendo batacazo violeta en el mes de octubre. tenemos que entender que en octubre de un lado va a estar el status quo, el partido del estado, la casta política chorra, parasitaria e inútil; la alta política, va a estar los perisobres, los periodistas ensobrados; van a estar también los sindigarcas, van a estar los empresaurios, los empresarios chorros, prebendarios. y, del otro lado, vamos a estar los argentinos de bien que queremos abrazar las ideas de la libertad para hacer a la argentina grande nuevamente. lo que ocurrió en los últimos cinco años en argentina, es un fenómeno único porque se conjugaron una nueva serie de condiciones que generaron una tormenta perfecta para que la gente empiece a verla y a construir anticuerpos para los parásitos que operaban en su mente. el desastre de los últimos tres gobiernos argentinos, la inflación desenfrenada producida por una política económica degenerada y el liberticidio que implicó la cuarentena eterna configuraron una pesadilla tan horrorosa que a muchos argentinos no les quedó alternativa que despertarse. yo no me olvido que había un impresentable de mierda que decía que en pandemia no hay derechos y vaya que asqueroso es que alguien vaya y se abrace con esa morsa inmunda. si no les queda claro, estoy hablando del señor mayans que es senador por gildo insfrán. así, el sufrimiento de nuestro pueblo sirvió como combustible de una nueva luz, de una nueva esperanza entre las tinieblas. la argentina vio en la derecha liberal naciente un faro, porque desde hace años, y en soledad, veníamos insistiendo contra los desvaríos de un estado parasitario, desesperado en su afán presupuestario. una casta política capaz de los crímenes más horribles con tal de mantener sus privilegios. vaya que, si se tienen que cargar gente en el medio, lo hacen. nisman, por ejemplo, digamos, pero no es el único ejemplo donde la casta política se carga con la vida de seres humanos. y esto mientras se escondía detrás del discurso de los derechos humanos, como saturno nuestra casta se devora a sus hijos para alimentar sus obesos estómagos insaciables o besos estómagos insaciables. ellos tenían todo un conjunto de mecanismos puestos en marcha para evitar que algo como nosotros pudiera ocurrir. un universo de relaciones clientelares con empresarios, dirigentes sociales y periodistas dedicados a embarrar y atacar a todo aquel que osara hacerle frente. pensaban que tenían al país domesticado y condenado a la servidumbre eterna, pero nosotros pudimos con todo ese aparato y pudimos precisamente porque traíamos con nosotros la verdad, y no solo los parásitos mentales son contagiosos, la verdad, cuando está contada con convicción y con voluntad, también se logra contagiar. por eso, es que ahora estamos llevando adelante esas ideas y sacando a la argentina de su oscuro último siglo de humillación. por eso son tan importantes foros como este donde nos dedicamos a discutir y conversar sobre las ideas de la libertad y cómo divulgarlas y llevarlas al gran público; porque queremos que cada argentino lleve con orgullo su país en la sangre, que deje de ver su historia con vergüenza, queremos ni más ni menos que la argentina y los argentinos seamos grande nuevamente. ¡qué vozarrón, eh! todo esto lo llevamos a la práctica con una metodología política que ha resultado novedosa para muchos. dudo o sea, dado que no somos kukas, buscaremos prosperar mediante la libre asociación entre privados. no teníamos plata, no teníamos aparato ni territorio, ni amigos en los medios, solo la palabra de su humilde servidor dando discursos de teoría económica en una plaza, y los celulares de todos ustedes, el arma más pura de la libertad, que desintermedia la circulación de información y le dio rienda suelta al contagio de nuestras ideas.\n",
      "\n"
     ]
    },
    {
     "name": "stderr",
     "output_type": "stream",
     "text": [
      "INFO:httpx:HTTP Request: POST http://127.0.0.1:11434/api/chat \"HTTP/1.1 200 OK\"\n"
     ]
    },
    {
     "name": "stdout",
     "output_type": "stream",
     "text": [
      "\n",
      "📤 Prompt fragmento:\n",
      "Resumí en español el siguiente fragmento de un discurso político, manteniendo su sentido general, tono e ideas principales. No inventes información y usá lenguaje claro y preciso:\n",
      "en este sentido, aquí me gustaría detenerme para reconocer a la derecha diario, que pasó de ser un diario digital, hecho a pulmón por dos adolescentes, a ser el diario más leído de todo el américa latina, en cuestión de pocos años. felicitaciones a todos los que son parte de la derecha diario y a sus creadores.\n",
      "\n"
     ]
    },
    {
     "name": "stderr",
     "output_type": "stream",
     "text": [
      "INFO:httpx:HTTP Request: POST http://127.0.0.1:11434/api/chat \"HTTP/1.1 200 OK\"\n"
     ]
    },
    {
     "name": "stdout",
     "output_type": "stream",
     "text": [
      "\n",
      "📤 Prompt fragmento:\n",
      "Resumí en español el siguiente fragmento de un discurso político, manteniendo su sentido general, tono e ideas principales. No inventes información y usá lenguaje claro y preciso:\n",
      "volviendo a nuestro camino transitado en campaña, se nos burlaban, decían que no éramos más que un fenómeno barrial y aún así metimos dos bancas de diputados con nuestra modesta campaña. por si eso no fuera ya de por sí un hito, dos años más tarde, ganamos nada más y nada menos que la presidencia del país, siendo el candidato con más votos de la historia, habiendo hecho en simultáneo la campaña más austera de la historia.\n",
      "\n"
     ]
    },
    {
     "name": "stderr",
     "output_type": "stream",
     "text": [
      "INFO:httpx:HTTP Request: POST http://127.0.0.1:11434/api/chat \"HTTP/1.1 200 OK\"\n"
     ]
    },
    {
     "name": "stdout",
     "output_type": "stream",
     "text": [
      "\n",
      "📤 Prompt fragmento:\n",
      "Resumí en español el siguiente fragmento de un discurso político, manteniendo su sentido general, tono e ideas principales. No inventes información y usá lenguaje claro y preciso:\n",
      "en definitiva, militar en los márgenes, manteniéndonos fieles a las ideas de la libertad, llegar al poder a fuerza de predicar nuestras ideas y lograr demostrar todo su poder, es algo que un kirchnerista nunca va a entender porque ellos son militantes rentados, y otros también también tienen militantes rentados. y, obviamente, tampoco lo van a entender los liberales de café, los liberales de copetín, que se enroscan en las formas para autosabotearse sistemáticamente. en su mirada infantil de la política, creen que se pueden ganar la guerra con ponencia filosófica, sin meterse en el barro, porque el barro les parece vulgar. yo suelo mencionar que si ustedes quieren y van a la cancha y ven un partido de argentina una de las cosas que ocurre es que digamos la tribuna es muy linda, muy vistosa y todo, pero si ustedes ponen la pelota en el medio de la cancha, por más que griten, canten, no se mueve la pelota. hagan el experimento todas las veces que quieran. por lo tanto, si quieren empezar a ganar, hay que meter goles, y para meter goles hay que meterse a jugar en la cancha. los goles en argentina no los hace la tribuna, los goles los hace messi. en este sentido, nosotros no solo nos metimos en el barro, sino que también entendemos que para meterse en el barro se necesita organización porque luchamos contra quienes se encargaron de embarrar la cancha durante 100 años; porque si el libre mercado y la horizontalidad son el mejor vehículo para las ideas, la organización y el orden son el mejor vehículo para la acción, para cambiar el país desde las raíces es necesario contar con ambas patas. nosotros tenemos claro que al mal organizado solo se le puede ganar con el bien organizado. entendemos que, a la hora de luchar contra el leviatán de las mil cabezas, el pragmatismo y el verticalismo son fundamentales y que los trapos sucios los tenemos que lavar puertas adentro, entre nosotros. por eso, inauguramos esta novedosa forma de hacer política que consiste en ser libres y a la vez organizado, no organizados, pero esclavos como es el kirchnerismo, ni libres, pero dispersos e impotentes, como fueron los liberales históricamente en la argentina. entendiendo esto es que logramos llevar a la práctica nuestras ideas y es gracias al poder ponerlas en práctica que logramos demostrar que son superiores, como ya dije anteriormente. en estos meses, hemos logrado mucho y en apenas un año y medio hemos contrarrestado décadas de destrucción sembrando las semillas de la futura argentina potencia. le demostramos al mundo y a nosotros mismos que el espíritu de emprendedor argentino está más vivo que nunca, que solo necesitábamos quitarnos del cuello la bota del estado. hoy, en todas partes, se habla de nuestro milagro económico; sin ir más lejos el presidente de francia acaba de anunciar su propio plan de motosierra y eso se está extendiendo por todas partes del mundo. por donde se lo mire estamos haciendo el mejor gobierno de la historia y por la innumerable cantidad de logros cosechados pareciera que la mayor parte del trabajo está hecha. sin embargo, no debemos olvidar ni por un segundo que esto recién comienza. no solo hay que deshacer un siglo de miseria acumulada y educar a nuestros semejantes en las ideas de la libertad, tenemos que hacerlo con todo el partido del estado en contra, operando y saboteando todos nuestros intentos de encauzar el barco que ellos hundieron. mientras tanto, ellos usan ilegítimamente en nuestra contra todos los mecanismos institucionales que fueron originalmente creados para proteger los derechos fundamentales a la vida, a la libertad y la propiedad, y también el interruptor de luz.\n",
      "\n"
     ]
    },
    {
     "name": "stderr",
     "output_type": "stream",
     "text": [
      "INFO:httpx:HTTP Request: POST http://127.0.0.1:11434/api/chat \"HTTP/1.1 200 OK\"\n"
     ]
    },
    {
     "name": "stdout",
     "output_type": "stream",
     "text": [
      "\n",
      "📤 Prompt fragmento:\n",
      "Resumí en español el siguiente fragmento de un discurso político, manteniendo su sentido general, tono e ideas principales. No inventes información y usá lenguaje claro y preciso:\n",
      "hay algo muy interesante y es que si antes de salir a la cancha es necesario hacer trampa es porque te sabes un perdedor, hoy los kukas se saben perdedores. de hecho, imagino que muchos de ustedes habrán visto la película gladiador. cuando la basura inmunda de cómodo decide pelear, mano a mano, con máximo; y para salir a pelear, antes de pelear, le tuvo que clavar un puñal y que se empiece a desangrar, eso es lo que necesita hacer el kirchnerismo, necesita hacer trampa porque no puede ganar por la vía legítima, pero tal como ocurrió en gladiador, va a ocurrir en la argentina, máximo libertad le va a ganar al cómodo kirchnerista.\n",
      "\n"
     ]
    },
    {
     "name": "stderr",
     "output_type": "stream",
     "text": [
      "INFO:httpx:HTTP Request: POST http://127.0.0.1:11434/api/chat \"HTTP/1.1 200 OK\"\n"
     ]
    },
    {
     "name": "stdout",
     "output_type": "stream",
     "text": [
      "\n",
      "📤 Prompt fragmento:\n",
      "Resumí en español el siguiente fragmento de un discurso político, manteniendo su sentido general, tono e ideas principales. No inventes información y usá lenguaje claro y preciso:\n",
      "es más, instituciones republicanas que fueron concebidas para evitar el surgimiento de la tiranía se han convertido en herramientas de opresión y sometimiento al servicio de perpetuar el despotismo de las burócratas, congresos que no sesionan debidamente, jueces que dictaminan sobre cuestiones en las que no tienen injerencia, y todo con el fin de frenar las reformas de libertad que el pueblo pide a gritos. y, por si eso fuera poco, tenemos que lidiar con los infaltables traidores, gente que fue elegida con el mandato claro de liberar a argentina del yugo del estado solo para darse vuelta al poco tiempo de haber asumido, gente que tardó tan solo minutos en revelar ese deseo irrefrenable de ser casta, gente que al poco tiempo de asumir su banca le dio la espalda al pueblo argentino, deslumbrada por la supuesta alta política.\n",
      "\n"
     ]
    },
    {
     "name": "stderr",
     "output_type": "stream",
     "text": [
      "INFO:httpx:HTTP Request: POST http://127.0.0.1:11434/api/chat \"HTTP/1.1 200 OK\"\n"
     ]
    },
    {
     "name": "stdout",
     "output_type": "stream",
     "text": [
      "\n",
      "📤 Prompt fragmento:\n",
      "Resumí en español el siguiente fragmento de un discurso político, manteniendo su sentido general, tono e ideas principales. No inventes información y usá lenguaje claro y preciso:\n",
      "pero así como la historia recuerda a los héroes, también recuerda a los traidores. y en el círculo más profundo del infierno, descrito por dante como un lugar remoto, frío y oscuro, sufren el tormento eterno quienes apuñalaron por la espalda a quienes le tendieron la mano. en fin, el tiempo sabrá poner a cada uno en el lugar que le corresponde.\n",
      "\n"
     ]
    },
    {
     "name": "stderr",
     "output_type": "stream",
     "text": [
      "INFO:httpx:HTTP Request: POST http://127.0.0.1:11434/api/chat \"HTTP/1.1 200 OK\"\n"
     ]
    },
    {
     "name": "stdout",
     "output_type": "stream",
     "text": [
      "\n",
      "📤 Prompt fragmento:\n",
      "Resumí en español el siguiente fragmento de un discurso político, manteniendo su sentido general, tono e ideas principales. No inventes información y usá lenguaje claro y preciso:\n",
      "por nuestra parte, reiteramos que roma no paga traidores. nos tomamos demasiado en serio la tarea que nos ha sido encomendada por los argentinos, como ya he dicho, defendemos una causa justa y noble, mucho más grande que cada uno de nosotros. somos individuos libres que voluntariamente se han asociado en pos de un objetivo común, hemos decidido por voluntad propia someternos a algo que nos excede resignando nuestras ambiciones personales, nuestro confort, nuestros deseos para llevar a cabo la hazaña más grande que haya visto nuestra nación desde su independencia, liberar al pueblo argentino de la tiranía del estado omnipresente. siendo lo más directo posible, algo que me caracteriza, estamos en guerra y por muy repetitivo que suene la historia ha demostrado que la única forma de vencer al mal organizado es mediante el bien organizado. por eso, somos millones, pero nos movemos como uno, y así los vamos a aplastar en las urnas. estamos ante un nuevo momento bisagra de nuestra historia, los próximos comicios nacionales definirán si el cambio que llevamos adelante desde diciembre de 2023 se consolida o retrocede hacia el espantoso pasado decadente al que nos arrastraron el kirchnerismo, sus secuaces y todo el partido del estado. por eso, este año, tenemos que salir a militar con el mismo espíritu y entusiasmo con el que salimos durante el 23. es el momento de que la libertad avanza demuestre que llegó para cambiar esta gran nación de una vez por todas y para siempre.\n",
      "\n"
     ]
    },
    {
     "name": "stderr",
     "output_type": "stream",
     "text": [
      "INFO:httpx:HTTP Request: POST http://127.0.0.1:11434/api/chat \"HTTP/1.1 200 OK\"\n"
     ]
    },
    {
     "name": "stdout",
     "output_type": "stream",
     "text": [
      "\n",
      "📤 Prompt fragmento:\n",
      "Resumí en español el siguiente fragmento de un discurso político, manteniendo su sentido general, tono e ideas principales. No inventes información y usá lenguaje claro y preciso:\n",
      "de modo tal que ese país de saqueadores, que fue liderado por la corrupta condenada, su difunto marido y el peor ministro de economía de la historia solo sea un mal recuerdo en la memoria de los argentinos.\n",
      "\n"
     ]
    },
    {
     "name": "stderr",
     "output_type": "stream",
     "text": [
      "INFO:httpx:HTTP Request: POST http://127.0.0.1:11434/api/chat \"HTTP/1.1 200 OK\"\n"
     ]
    },
    {
     "name": "stdout",
     "output_type": "stream",
     "text": [
      "\n",
      "📤 Prompt fragmento:\n",
      "Resumí en español el siguiente fragmento de un discurso político, manteniendo su sentido general, tono e ideas principales. No inventes información y usá lenguaje claro y preciso:\n",
      "pero para lograrlo no podemos descuidarnos ni un solo segundo. la casta política sigue ahí, esperando que nos equivoquemos. se prepararon toda su vida sirviéndose del estado y saltando de cargo en cargo. conocen a la perfección cada engranaje de la máquina de impedir. máquina que ellos mismos construyeron para evitar los cambios que la sociedad demanda. nos quieren ver débiles para poder llevarnos puestos y así retomar el poder, con el único propósito de recuperar los privilegios que les estamos arrebatando en pos de devolverle la libertad a cada argentino de bien. no hay que permitírselo. es el momento de estar más unidos que nunca, fieles a nuestro propósito. ellos quieren que seamos un país de pobres y sometidos. nosotros queremos un país próspero y libre. esta es la consigna que debemos predicar a lo largo y a lo ancho de todo el país, comprometiéndonos también yendo a votar y a fiscalizar. como decía marco aurelio: \"no hay camino corto hacia la grandeza. la paciencia y la perseverancia son fundamentales\". esto recién empieza, y de nosotros depende la posibilidad de hacer una argentina grande otra vez. no les tengamos miedo. ya les ganamos antes, y volveremos a hacerlo otra vez. gracias, córdoba; que dios bendiga a los argentinos, que las fuerzas del cielo nos acompañen y ¡viva la libertad, carajo! ¡viva la libertad, carajo! ¡viva la libertad, carajo! muchas gracias.\n",
      "\n"
     ]
    },
    {
     "name": "stderr",
     "output_type": "stream",
     "text": [
      "INFO:httpx:HTTP Request: POST http://127.0.0.1:11434/api/chat \"HTTP/1.1 200 OK\"\n"
     ]
    },
    {
     "name": "stdout",
     "output_type": "stream",
     "text": [
      "\n",
      "📤 Prompt final:\n",
      "Título del discurso: Palabras del Presidente de la Nación, Javier Milei, en La Derecha Fest, Córdoba\n",
      "Fecha: Martes 22 de julio de 2025\n",
      "A continuación tenés los resúmenes parciales de un discurso político extenso.\n",
      "Redactá un resumen final fluido y preciso, sin repetir ideas, manteniendo el tono original y resaltando los temas clave del discurso.\n",
      "Evitá generalidades vacías o fórmulas genéricas. Escribí en español claro:\n",
      "Hola a todos. ¿No vais a salir? ¿Qué pasa? ¿Váyanse el pingüino del armario? ¡Viva la libertad, carajo!\n",
      "Resumen: El orador habla con una expresión coloquial para preguntar a la audiencia si está listo para salir de algún lugar. Luego hace una pregunta absurda para despertar la atención y termina llamando a la libertad en un tono entusiasta. La idea principal es que el público esté listo para salir y estar ansioso por la libertad.\n",
      "The text appears to be discussing the concepts and critiques of certain ideologies, such as neoliberalism and social equality, in the context of Argentina's political and economic history.\n",
      "The author argues that the term \"neoliberalism\" is used emotionally by the left to blame those who try to clean up the financial messes caused by previous administrations. They mention that the Kirchner administration increased the national debt significantly, while the current government has managed to reduce it. The author also criticizes certain businesses for feeling pressured to promote social causes, arguing that they should focus on their primary function of creating value, which leads to employment and other real social benefits.\n",
      "The text seems to support a viewpoint that emphasizes individual responsibility, limited government intervention, and economic freedom, possibly advocating for free-market principles. However, the text is quite critical towards certain political figures and ideologies without providing specific evidence or arguments, which may limit its persuasive power. The author also mentions the reduction of the national debt, but it's not clear how they achieved this or what specific policies were implemented. Overall, the text appears to be a political commentary with a particular ideological leaning.\n",
      "En este discurso político se critica la promoción de la diversidad, equidad e inclusión en empresas y la sociedad en general, argumentando que ha sustituido la igualdad ante la ley por la discriminación positiva a grupos sociales. Se afirma que esto se traduce en un abandono de los criterios de excelencia y idoneidad en favor de criterios generales o étnicos, lo que se considera fragmentar la sociedad, empujarla hacia luchas inventadas, y debilitar la neutralidad de las instituciones. El discurso critica las ideas políticas derivadas del marxismo y el anticolonialismo, como el ambientalismo y el antidesarrollo, que se enseñan como verdadero en importantes universidades. También se menciona la maneras en que la izquierda ha utilizado a figuras públicas respetadas de cada sociedad para promover su ideología. Por último, se alaba la labor de figuras como Agustín Laje, Nicolás Márquez y otros para llevar adelante la batalla cultural contra estos puntos de vista.\n",
      "En este discurso político se argumenta que durante los últimos cien años, el liberalismo ha perdido terreno ante el colectivismo y la izquierda en la lucha cultural. Se afirma que los liberales han dejado de luchar por sus ideas y se necesita imitar a la izquierda en este aspecto, combatiendo de manera persistente en lugares de influencia como medios de comunicación, concejos deliberantes y canales de radio y televisión. Se enfatiza la necesidad de seguir luchando en esta batalla cultural por las ideas de la libertad para garantizar el éxito a largo plazo del camino que se inicia desde el gobierno actual. También se señala que la mayoría de la gente ha internalizado ideologías contrarias a la libertad y al progreso, pero puede ser persuadida de cambiar de opinión. Finalmente, se exhorta a los oyentes a ser soldados en la lucha cultural para libertad y progreso.\n",
      "El discurso hace énfasis en una llamada a la esperanza para los argentinos, enfatizando un cambio de rumbo que se decidió en el año 2023 y que tendrá que confirmarse en septiembre en la provincia de Buenos Aires, luego en cada provincia. Se anuncia un gran golpe de voto púrpura en octubre, en el cual el status quo será representado por el Partido del Estado, la casta política corrupta e inútil; la alta política por los Perisobres, los periodistas ensobrados; y los sindigarcas, los empresarios corruptos. Del otro lado estarán los argentinos de bien que buscan abrazar las ideas de libertad para hacer a Argentina grande nuevamente.\n",
      "El discurso señala que los últimos cinco años en Argentina han sido un fenómeno único, con una tormenta perfecta generada por condiciones nuevas que permitieron que la gente comience a ver y construir anticuerpos contra los parásitos que operaban en su mente. El desastre de los últimos tres gobiernos argentinos, la inflación sin control producida por una política económica degenerada y el liberticidio que implicó la cuarentena eterna han sido un desastre horroroso para muchos argentinos que no les quedó alternativa que despertarse.\n",
      "Se critica a quienes decían que en pandemia no hay derechos y se menciona al senador Mayans como ejemplo de una casta política capaz de cometer crímenes horribles para mantener sus privilegios, mientras se escondía detrás del discurso de los derechos humanos.\n",
      "Se afirma que el sufrimiento de nuestro pueblo ha servido como combustible de una nueva luz y esperanza entre las tinieblas. Argentina vio en la derecha liberal un faro, porque se han estado insistiendo durante años contra los desvaríos del estado parasitario, desesperado en su afán presupuestario.\n",
      "Se señala que el objetivo es sacar a Argentina de su último siglo de humillación y llevar sus ideas de libertad al gran público. Se anuncia la metodología política novedosa para muchos, como la libre asociación entre privados, en lugar de buscar prosperidad mediante el estado. El discurso termina con una llamada a que cada argentino lleve con orgullo su país en la sangre y se sienta orgulloso de ser argentino nuevamente.\n",
      "En este sentido quiero agradecer al Diario Diario, que pasó de ser un diario digital fundado por dos adolescentes a ser el más leído en América Latina en pocos años. Felicitaciones a todos los involucrados y sus creadores.\n",
      "En regreso al camino recorrido durante nuestra campaña política, se burlaban de nosotros, afirmando que no eran más que un fenómeno local y aún así logramos colocar dos diputados con una modesta campaña. Sin embargo, eso no era todo, dos años después, ganamos nada menos que la presidencia del país, convirtiéndonos en el candidato con más votos de la historia mientras seguíamos llevando a cabo la campaña más austera jamás realizada.\n",
      "En resumen, el discurso politico enfatiza en la necesidad de un enfoque práctico en la toma del poder mediante acción efectiva, no solamente predicando ideas. El orador critica a los kirchneristas por ser militantes contratados y a los liberales por su falta de acción efectiva. La metáfora utilizada es la de un partido de fútbol, donde la \"tribuna\" representa las ideas ideales pero sin importancia en la práctica y el campo de juego representa la acción real. El orador afirma que para ganar se necesita anotar goles (logros) y esto se logra metiéndose al campo de juego, y no solo hablando desde la tribuna. También insiste en la necesidad de estar organizados en la lucha contra quienes han estado embarrando la cancha durante cien años. El orador también destaca que el espíritu emprendedor argentino está más vivo que nunca y ha logrado mucho en solo un año y medio, pero también advierte que aún es necesario deshacer una centuria de miseria acumulada. Finalmente, se menciona que el gobierno actual es el mejor de la historia, pero se recuerda que aun solo comienza y hay mucho trabajo por hacer para educar a los argentinos en las ideas de la libertad y enfrentarse al partido del estado contrario.\n",
      "El discurso enfatiza que los kukas (presumiblemente un grupo político) son perdedores y necesitan engañar para tener ventaja, comparándolos con el personaje de Commodus de la película Gladiador que se enfrenta a Maximus con traición. El discurso sugiere que como Commodus fue derrotado por Maximus, el kirchnerismo (posiblemente otro grupo político) también será derrotado en Argentina, ya que la libertad y legítima lucha le darán ventaja sobre quienes están deshonestos.\n",
      "El discurso politíco resume que las instituciones republicanas, creadas para evitar la tiranía, se han transformado en herramientas de opresión y dominio servidor del despotismo de los burócratas. Congresos inhabilitados a sesionar correctamente, jueces dictaminando sobre asuntos en que no tienen influencia y, en general, todos esto con el fin de frenar las reformas de libertad que piden en gritos el pueblo. Además, se tiene que enfrentar con los infaltables traidores, personas elegidas para liberar a Argentina del yugo del estado, pero que pronto se volvieron traidoras, deslumbradas por la supuesta alta política.\n",
      "La historia recordará no solo a los héroes, sino también a los traidores. Aunque Dante los describe como ubicados en un lugar remoto, frío y oscuro, dentro del infierno más profundo, aquellos que traicionaron a quienes extendieron la mano sufrirán tormento eterno. En fin, el tiempo colocará a cada uno en el lugar que le corresponde.\n",
      "En este discurso, se reafirma la posición de que Roma no acepta a los traidores. Se enfatiza el serio compromiso asumido por los argentinos en su tarea, defendiendo una causa justa e importante más grande que cada uno de ellos. Los oradores se presentan como individuos libres que han asociado voluntariamente con un objetivo común, dejando sus ambiciones personales y deseos atrás para lograr una hazaña grande para su país: liberar al pueblo argentino del estado omnipresente. En términos claros, se indica que estamos en guerra y la única forma de vencer a la mala organización es mediante una buena organización. Por eso, actuamos como un solo grupo y lo venceremos en las urnas. Se describe este momento como un punto de inflexión en la historia argentina, donde los próximos comicios nacionales determinarán si el cambio impulsado desde diciembre de 2023 se consolida o regresa al pasado decadente que fue llevado por el kirchnerismo, sus seguidores y todo el partido del estado. Por eso, en este año, se llama a salir a la lucha con el mismo espíritu y entusiasmo que se mostró durante el 23. El momento está aquí para que la libertad avance y demuestre que llegó para cambiar esta gran nación por siempre.\n",
      "A través del resumen, se pretende mantener el sentido general, el tono y las ideas principales del siguiente fragmento de un discurso político:\n",
      "En ese sentido, es deseable que este país de saqueadores, dirigido por una condenada corrupta, su difunto marido y el peor ministro de economía en la historia, solo sea una mera recordación desagradable en la memoria de los argentinos.\n",
      "En resumen: Se desea que el país gobernado por una condenada corrupta, su difunto esposo y el peor ministro de economía de la historia sólo sea un mal recuerdo para los argentinos.\n",
      "El discurso en cuestión resalta la importancia de mantenerse constantes y vigilantes para lograr el cambio que la sociedad argentina demanda. Se destaca la presencia persistente de la política corrupta, preparada para aprovechar cualquier error o debilidad. Los políticos en cuestión se han servido del Estado durante toda su vida y saltan de cargo en cargo. Se los describe como maestros en el uso del sistema administrativo para evitar el cambio.\n",
      "El discurso también enfatiza la importancia de unirse y permanecer fieles a sus objetivos, para que Argentina no se convierta en un país pobre e inducido sino próspero e independiente. Se les pide a los argentinos que se comprometan en votar y fiscalizar, como parte de este esfuerzo por cambiar el curso del país.\n",
      "El discurso también hace referencia a la filosofía de Marco Aurelio, quien afirmaba que \"no hay camino corto hacia la grandeza. La paciencia y la perseverancia son fundamentales\". El discurso sugiere que el cambio es un proceso largo pero esencial para una Argentina próspera.\n",
      "Finalmente, se concluye el discurso con un llamado a la libertad y un deseo de éxito, agradeciendo a Cordoba mientras invoca a Dios para bendecir a los argentinos y a las fuerzas celestiales para apoyarlos en su lucha. El discurso termina con una repetición ferviente de \"¡Viva la libertad, carajo!\"\n",
      "\n"
     ]
    },
    {
     "name": "stderr",
     "output_type": "stream",
     "text": [
      "INFO:httpx:HTTP Request: POST http://127.0.0.1:11434/api/chat \"HTTP/1.1 200 OK\"\n",
      "Generando resúmenes con LLM: 100%|██████████████████████████████████████████████████████████████████████████████████████████████████████████████████████████████████████████████████████████████████████████| 1/1 [17:50<00:00, 1070.76s/it]"
     ]
    },
    {
     "name": "stdout",
     "output_type": "stream",
     "text": [
      "\n",
      "🟩 Resumen generado con éxito para código: DISCURSO_001\n",
      "Resumen:\n",
      "En este discurso político, Javier Milei aborda temas como el liberalismo y el colectivismo, criticando la promoción de diversidad, equidad e inclusión en empresas y sociedad en general. Según el orador, esto ha sustituido la igualdad ante la ley por discriminación positiva a grupos sociales, lo que fragmenta la sociedad y debilita las instituciones. El discurso se enfoca en llamar a la libertad, afirmando que Argentina necesita una nueva dirección política para sacarla de su último siglo de humillación y llevar sus ideas de libertad al gran público. Menciona la necesidad de una batalla cultural por las ideas de libertad y progreso, enfatizando la importancia de ser soldados en esta lucha. Además, hace un llamado a Argentina para ser el país más grande de América Latina y exhorta a los oyentes a sentirse orgullosos de ser argentinos nuevamente. El discurso enfatiza la necesidad de un cambio en la política argentina y una batalla cultural para libertad y progreso, al tiempo que se critica a quienes han mantenido al país en situaciones difíciles durante décadas.\n",
      "--------------------------------------------------------------------------------\n",
      "\n",
      "✅ Archivo guardado en: C:\\PROYECTOS\\Primer MVP1\\data\\A4. discursos_resumenes.csv\n"
     ]
    },
    {
     "name": "stderr",
     "output_type": "stream",
     "text": [
      "\n"
     ]
    }
   ],
   "source": [
    "import pandas as pd\n",
    "import modulos.paths as paths\n",
    "import modulos.prompts as prompts\n",
    "from modulos.resumen import resumir_dataframe\n",
    "from modulos.modelo import get_model\n",
    "\n",
    "modelo_llm = get_model(modelo=\"mistral\")\n",
    "\n",
    "df_preprocesado = pd.read_csv(paths.discursos_preprocesado, encoding=\"utf-8-sig\")\n",
    "\n",
    "df_con_resumenes = resumir_dataframe(\n",
    "    df=df_preprocesado,\n",
    "    modelo_llm=modelo_llm,\n",
    "    prompt_fragmento=prompts.PROMPT_RESUMIR_FRAGMENTO,\n",
    "    prompt_discurso=prompts.PROMPT_RESUMIR_DISCURSO,\n",
    "    umbral=0.25,\n",
    "    guardar=True,\n",
    "    path_salida=paths.discursos_resumen,\n",
    "    mostrar_prompts=True\n",
    ")"
   ]
  },
  {
   "cell_type": "markdown",
   "id": "c2fe3267-7889-4367-a066-22008b60eb4d",
   "metadata": {},
   "source": [
    "# 4. Prueba de módulo \"identificacion_actores\"\n",
    "\n",
    "## 4.1. Identificación de tipo de discurso, enunciador, enunciatarios y lugar\n",
    "\n",
    "**procesar_discursos_llm:** Procesa un conjunto de discursos para identificar automáticamente su tipo, enunciador, enunciatarios y lugar, utilizando un modelo de lenguaje (LLM) a través de la API de Ollama y prompts personalizados.\n",
    "\n",
    "Parámetros:\n",
    "- df (pd.DataFrame): DataFrame con columnas 'codigo', 'titulo', 'texto_limpio' y 'resumen'.\n",
    "- diccionario (dict): Diccionario conceptual con categorías y ejemplos, utilizado para orientar la identificación de tipo de discurso y roles enunciativos (ej. diccionario_tipos_discurso).\n",
    "- prompt_tipo (str): Prompt base para la detección del tipo de discurso. Debe incluir los placeholders \"RESUMEN\", \"FRAGMENTOS\" y \"DICCIONARIO\".\n",
    "- prompt_enunciacion (str): Prompt base para la identificación del enunciador y los enunciatarios. Debe incluir los placeholders \"RESUMEN\", \"FRAGMENTOS\" y \"DICCIONARIO\".\n",
    "- prompt_lugar (str): Prompt base para la detección del lugar de enunciación. Debe incluir los placeholders \"TITULO\", \"RESUMEN\" y \"FRAGMENTOS\".\n",
    "- guardar_csv (bool, opcional): Si es True, guarda los resultados en un archivo .csv. Por defecto: True.\n",
    "- output_path (str, opcional): Ruta al archivo donde se guardará el CSV. Obligatorio si guardar_csv=True.\n",
    "- analizar_tipo (bool, opcional): Si es True, se realiza la identificación del tipo de discurso. Por defecto: True.\n",
    "- analizar_enunc (bool, opcional): Si es True, se identifican enunciador y enunciatarios. Por defecto: True.\n",
    "- analizar_lug (bool, opcional): Si es True, se identifica el lugar de enunciación. Por defecto: True.\n",
    "- mostrar_prompts (bool, opcional): Si es True, imprime los prompts construidos antes de enviarlos al modelo. Útil para debugging. Por defecto: False.\n",
    "\n",
    "Retorna:\n",
    "- pd.DataFrame: DataFrame original con columnas adicionales que contienen los resultados de la identificación automática (tipo_discurso, tipo_discurso_justificacion, enunciador_actor, enunciador_justificacion, enunciatario_0_actor, enunciatario_0_tipo, enunciatario_0_justificacion, ..., lugar_ciudad, lugar_provincia, lugar_pais, lugar_justificacion).\n",
    "\n",
    "Requiere:\n",
    "- Definición previa de los paths en el módulo modulos.paths.\n",
    "- Disponibilidad de los prompts base en el módulo modulos.prompts.\n",
    "- Diccionario conceptual diccionario_tipos_discurso importado desde modulos.tipos_discurso."
   ]
  },
  {
   "cell_type": "code",
   "execution_count": 1,
   "id": "07037594-bf3a-4602-a115-52bf9ca653f1",
   "metadata": {
    "scrolled": true
   },
   "outputs": [
    {
     "name": "stderr",
     "output_type": "stream",
     "text": [
      "C:\\ProgramData\\anaconda3\\envs\\ag_env2\\lib\\site-packages\\requests\\__init__.py:86: RequestsDependencyWarning: Unable to find acceptable character detection dependency (chardet or charset_normalizer).\n",
      "  warnings.warn(\n",
      "Procesando discursos:   0%|                                                                                                                                                                                           | 0/1 [00:00<?, ?it/s]"
     ]
    },
    {
     "name": "stdout",
     "output_type": "stream",
     "text": [
      "\n",
      "📤 Prompt - Tipo de discurso:\n",
      " Estás analizando un discurso. Tu única tarea es identificar el tipo de discurso y justificar por qué.\n",
      "⚠️ Siempre agregá una justificación sobre por qué identificaste el discurso como correspondiente a un determinado tipo.\n",
      "### Resumen del discurso:\n",
      "En este discurso político, Javier Milei aborda temas como el liberalismo y el colectivismo, criticando la promoción de diversidad, equidad e inclusión en empresas y sociedad en general. Según el orador, esto ha sustituido la igualdad ante la ley por discriminación positiva a grupos sociales, lo que fragmenta la sociedad y debilita las instituciones. El discurso se enfoca en llamar a la libertad, afirmando que Argentina necesita una nueva dirección política para sacarla de su último siglo de humillación y llevar sus ideas de libertad al gran público. Menciona la necesidad de una batalla cultural por las ideas de libertad y progreso, enfatizando la importancia de ser soldados en esta lucha. Además, hace un llamado a Argentina para ser el país más grande de América Latina y exhorta a los oyentes a sentirse orgullosos de ser argentinos nuevamente. El discurso enfatiza la necesidad de un cambio en la política argentina y una batalla cultural para libertad y progreso, al tiempo que se critica a quienes han mantenido al país en situaciones difíciles durante décadas.\n",
      "### Fragmentos clave del discurso:\n",
      "Fragmento 1:\n",
      "palabras del presidente de la nación, javier milei, en la derecha fest, córdoba\n",
      "hola a todos. che, ¿no van a sacar? ¿cómo es? ¿saquen al pingüino del cajón? ¡viva la libertad, carajo!\n",
      "primero que nada, quiero extenderle un cálido saludo a mi queridísimo amigo agustín laje como así también a todo el equipo de la derecha diario por organizar este enorme evento. muchas gracias.\n",
      "también quiero agradecer a todos los expositores que me precedieron y, por supuesto, a todos ustedes. y también quiero agr\n",
      "Fragmento 2:\n",
      "a fiscalizar. como decía marco aurelio: \"no hay camino corto hacia la grandeza. la paciencia y la perseverancia son fundamentales\". esto recién empieza, y de nosotros depende la posibilidad de hacer una argentina grande otra vez. no les tengamos miedo. ya les ganamos antes, y volveremos a hacerlo otra vez. gracias, córdoba; que dios bendiga a los argentinos, que las fuerzas del cielo nos acompañen y ¡viva la libertad, carajo! ¡viva la libertad, carajo! ¡viva la libertad, carajo! muchas gracias.\n",
      "Fragmento 3:\n",
      "y, a su vez, a los seis meses terminamos saneando el balance del banco central. algo que nadie hablaba de cómo se limpiaba el balance del banco central. gracias a la tarea enorme de santiago bausili, presidente del banco central, y el secretario de finanzas, pablo quirno.\n",
      "Fragmento 4:\n",
      "y todo esto financiado a costa de los impuestos de los ciudadanos prósperos y pujantes, a quienes se encargaron de demonizar como si fueran el origen de todos los males. este es un juego en el que hoy, lamentablemente, partimos con desventaja; debemos reconocer que ellos lo hicieron mejor. cuando reconozcamos que ellos lo hicieron mejor, la batalla cultural, vamos a estar en condiciones de llevarlos por encima y mucho de eso es gracias a agustín laje, a nicolás márquez, a ballerini, a axel kaiser y a otros tantos gigantes del pensamiento que han empezado a dar esta batalla cultural como verdaderos gladiadores. y ni que hablar ese \"coloso\" que los asusta desde el streaming, el \"gordo dan\".\n",
      "Diccionario conceptual:\n",
      "{\n",
      "\"discurso político\": {\n",
      "\"descripción\": \"Discurso producido por actores del campo político, como representantes estatales, partidos, o movimientos. Tiene siempre tres tipos de destinatarios simultáneos\",\n",
      "\"tipos_de_destinatarios\": {\n",
      "\"prodestinatario\": \"Grupo que comparte los valores y las creencias del enunciador. Generalmente, su propio partido y su propia base electoral. Nunca se corresponde con una población\",\n",
      "\"paradestinatario\": \"Audiencia neutra o indecisa, a la que el discurso intenta atraer y persuadir.\",\n",
      "\"contradestinatario\": \"Oposición o adversarios explícitos, mencionados para contraposición o polarización.\"\n",
      "}\n",
      "},\n",
      "\"discurso científico\": {\n",
      "\"descripción\": \"Discurso generado desde instituciones o personas que operan en la producción de conocimiento científico.\",\n",
      "\"tipos_de_destinatarios\": {\n",
      "\"colegas pares\": \"Comunidad científica a la que se dirige para validación o debate.\",\n",
      "\"instituciones financiadoras\": \"Organismos o entidades que apoyan o regulan la producción científica.\",\n",
      "\"público general\": \"Audiencia no especializada, que puede ser objeto de divulgación.\"\n",
      "}\n",
      "},\n",
      "\"discurso periodístico\": {\n",
      "\"descripción\": \"Producción verbal de medios de comunicación, orientada a informar o formar opinión.\",\n",
      "\"tipos_de_destinatarios\": {\n",
      "\"audiencia objetivo\": \"Grupo social al que el medio apunta según su línea editorial.\",\n",
      "\"fuentes\": \"Actores mencionados o interpelados por el medio para construir o cuestionar versiones.\",\n",
      "\"oponentes ideológicos\": \"Grupos o discursos con los que el medio polemiza.\"\n",
      "}\n",
      "}\n",
      "}\n",
      "Respondé solo con un objeto JSON como este:\n",
      "{ \"tipo\": \"...\", \"justificación\": \"...\" }\n",
      "\n",
      "📤 Prompt - Enunciación:\n",
      " Estás analizando un discurso. A partir del resumen y los fragmentos seleccionados, realizá las siguientes tareas:\n",
      "1. Identificá el **enunciador global**: indicá quién habla o produce el discurso, con base en los fragmentos disponibles. Siempre justificá con marcas o inferencias relevantes.\n",
      "2. Identificá los **enunciatarios globales**, según el tipo de discurso identificado y los 'tipos_de_destinatarios' del diccionario conceptual. Los enunciatarios globales son a quién o a quiénes se dirige el discurso. Clasificá cada enunciatario según las categorías del diccionario conceptual y justificá siempre cada caso con atención a las huellas enunciativas (apelaciones, pronombres, campos léxicos, etc.).\n",
      "⚠️ No generalices: no supongas que el destinatario es 'la población' o 'la ciudadanía' a menos que sea explícito o claramente inferible. Prestá especial atención a apelaciones directas, pluralidades construidas o formas de interpelación indirectas.\n",
      "⚠️ Identificá **un solo enunciatario por cada tipo definido en el diccionario conceptual**. Siempre debe ser el más general (ej: 'la oposición política', no nombres propios) y adecuado. Los tipos no deben repetirse.\n",
      "⚠️ No repitas tipos, ni inventes categorías nuevas.\n",
      "⚠️ Siempre justificá en el ítem 'justificación'.\n",
      "### Resumen:\n",
      "En este discurso político, Javier Milei aborda temas como el liberalismo y el colectivismo, criticando la promoción de diversidad, equidad e inclusión en empresas y sociedad en general. Según el orador, esto ha sustituido la igualdad ante la ley por discriminación positiva a grupos sociales, lo que fragmenta la sociedad y debilita las instituciones. El discurso se enfoca en llamar a la libertad, afirmando que Argentina necesita una nueva dirección política para sacarla de su último siglo de humillación y llevar sus ideas de libertad al gran público. Menciona la necesidad de una batalla cultural por las ideas de libertad y progreso, enfatizando la importancia de ser soldados en esta lucha. Además, hace un llamado a Argentina para ser el país más grande de América Latina y exhorta a los oyentes a sentirse orgullosos de ser argentinos nuevamente. El discurso enfatiza la necesidad de un cambio en la política argentina y una batalla cultural para libertad y progreso, al tiempo que se critica a quienes han mantenido al país en situaciones difíciles durante décadas.\n",
      "### Fragmentos clave del discurso:\n",
      "Fragmento 1:\n",
      "palabras del presidente de la nación, javier milei, en la derecha fest, córdoba\n",
      "hola a todos. che, ¿no van a sacar? ¿cómo es? ¿saquen al pingüino del cajón? ¡viva la libertad, carajo!\n",
      "primero que nada, quiero extenderle un cálido saludo a mi queridísimo amigo agustín laje como así también a todo el equipo de la derecha diario por organizar este enorme evento. muchas gracias.\n",
      "también quiero agradecer a todos los expositores que me precedieron y, por supuesto, a todos ustedes. y también quiero agr\n",
      "Fragmento 2:\n",
      "a fiscalizar. como decía marco aurelio: \"no hay camino corto hacia la grandeza. la paciencia y la perseverancia son fundamentales\". esto recién empieza, y de nosotros depende la posibilidad de hacer una argentina grande otra vez. no les tengamos miedo. ya les ganamos antes, y volveremos a hacerlo otra vez. gracias, córdoba; que dios bendiga a los argentinos, que las fuerzas del cielo nos acompañen y ¡viva la libertad, carajo! ¡viva la libertad, carajo! ¡viva la libertad, carajo! muchas gracias.\n",
      "Fragmento 3:\n",
      "y, a su vez, a los seis meses terminamos saneando el balance del banco central. algo que nadie hablaba de cómo se limpiaba el balance del banco central. gracias a la tarea enorme de santiago bausili, presidente del banco central, y el secretario de finanzas, pablo quirno.\n",
      "Fragmento 4:\n",
      "y todo esto financiado a costa de los impuestos de los ciudadanos prósperos y pujantes, a quienes se encargaron de demonizar como si fueran el origen de todos los males. este es un juego en el que hoy, lamentablemente, partimos con desventaja; debemos reconocer que ellos lo hicieron mejor. cuando reconozcamos que ellos lo hicieron mejor, la batalla cultural, vamos a estar en condiciones de llevarlos por encima y mucho de eso es gracias a agustín laje, a nicolás márquez, a ballerini, a axel kaiser y a otros tantos gigantes del pensamiento que han empezado a dar esta batalla cultural como verdaderos gladiadores. y ni que hablar ese \"coloso\" que los asusta desde el streaming, el \"gordo dan\".\n",
      "Diccionario conceptual:\n",
      "{\n",
      "\"descripción\": \"Discurso producido por actores del campo político, como representantes estatales, partidos, o movimientos. Tiene siempre tres tipos de destinatarios simultáneos\",\n",
      "\"tipos_de_destinatarios\": {\n",
      "\"prodestinatario\": \"Grupo que comparte los valores y las creencias del enunciador. Generalmente, su propio partido y su propia base electoral. Nunca se corresponde con una población\",\n",
      "\"paradestinatario\": \"Audiencia neutra o indecisa, a la que el discurso intenta atraer y persuadir.\",\n",
      "\"contradestinatario\": \"Oposición o adversarios explícitos, mencionados para contraposición o polarización.\"\n",
      "}\n",
      "}\n",
      "Respondé solo con un JSON como este:\n",
      "{ \"enunciador\": {\"actor\": \"...\", \"justificación\": \"...\" }, \"enunciatarios\": [ { \"actor\": \"...\", \"tipo\": \"...\", \"justificación\": \"...\" } ] }\n",
      "\n",
      "📤 Prompt - Lugar:\n",
      " Identificá el lugar desde el cual se pronunció el discurso (ciudad, provincia y país si se puede inferir).\n",
      "### Título:\n",
      "Palabras del Presidente de la Nación, Javier Milei, en La Derecha Fest, Córdoba\n",
      "### Resumen:\n",
      "En este discurso político, Javier Milei aborda temas como el liberalismo y el colectivismo, criticando la promoción de diversidad, equidad e inclusión en empresas y sociedad en general. Según el orador, esto ha sustituido la igualdad ante la ley por discriminación positiva a grupos sociales, lo que fragmenta la sociedad y debilita las instituciones. El discurso se enfoca en llamar a la libertad, afirmando que Argentina necesita una nueva dirección política para sacarla de su último siglo de humillación y llevar sus ideas de libertad al gran público. Menciona la necesidad de una batalla cultural por las ideas de libertad y progreso, enfatizando la importancia de ser soldados en esta lucha. Además, hace un llamado a Argentina para ser el país más grande de América Latina y exhorta a los oyentes a sentirse orgullosos de ser argentinos nuevamente. El discurso enfatiza la necesidad de un cambio en la política argentina y una batalla cultural para libertad y progreso, al tiempo que se critica a quienes han mantenido al país en situaciones difíciles durante décadas.\n",
      "### Fragmentos clave del discurso:\n",
      "Fragmento 1:\n",
      "palabras del presidente de la nación, javier milei, en la derecha fest, córdoba\n",
      "hola a todos. che, ¿no van a sacar? ¿cómo es? ¿saquen al pingüino del cajón? ¡viva la libertad, carajo!\n",
      "primero que nada, quiero extenderle un cálido saludo a mi queridísimo amigo agustín laje como así también a todo el equipo de la derecha diario por organizar este enorme evento. muchas gracias.\n",
      "también quiero agradecer a todos los expositores que me precedieron y, por supuesto, a todos ustedes. y también quiero agr\n",
      "Fragmento 2:\n",
      "a fiscalizar. como decía marco aurelio: \"no hay camino corto hacia la grandeza. la paciencia y la perseverancia son fundamentales\". esto recién empieza, y de nosotros depende la posibilidad de hacer una argentina grande otra vez. no les tengamos miedo. ya les ganamos antes, y volveremos a hacerlo otra vez. gracias, córdoba; que dios bendiga a los argentinos, que las fuerzas del cielo nos acompañen y ¡viva la libertad, carajo! ¡viva la libertad, carajo! ¡viva la libertad, carajo! muchas gracias.\n",
      "Fragmento 3:\n",
      "y, a su vez, a los seis meses terminamos saneando el balance del banco central. algo que nadie hablaba de cómo se limpiaba el balance del banco central. gracias a la tarea enorme de santiago bausili, presidente del banco central, y el secretario de finanzas, pablo quirno.\n",
      "Fragmento 4:\n",
      "y todo esto financiado a costa de los impuestos de los ciudadanos prósperos y pujantes, a quienes se encargaron de demonizar como si fueran el origen de todos los males. este es un juego en el que hoy, lamentablemente, partimos con desventaja; debemos reconocer que ellos lo hicieron mejor. cuando reconozcamos que ellos lo hicieron mejor, la batalla cultural, vamos a estar en condiciones de llevarlos por encima y mucho de eso es gracias a agustín laje, a nicolás márquez, a ballerini, a axel kaiser y a otros tantos gigantes del pensamiento que han empezado a dar esta batalla cultural como verdaderos gladiadores. y ni que hablar ese \"coloso\" que los asusta desde el streaming, el \"gordo dan\".\n",
      "Respondé solo con un JSON como este:\n",
      "{ \"ciudad\": \"...\", \"provincia\": \"...\", \"país\": \"...\", \"justificación\": \"...\" }\n"
     ]
    },
    {
     "name": "stderr",
     "output_type": "stream",
     "text": [
      "Procesando discursos: 100%|██████████████████████████████████████████████████████████████████████████████████████████████████████████████████████████████████████████████████████████████████████████████████| 1/1 [02:49<00:00, 169.51s/it]"
     ]
    },
    {
     "name": "stdout",
     "output_type": "stream",
     "text": [
      "\n",
      "🎤 Código: DISCURSO_001\n",
      "✔️ Tipo de discurso: discurso político\n",
      "✔️ Enunciador: Javier Milei\n",
      "📨 Enunciatarios:\n",
      "   1. La derecha (prodestinatario)\n",
      "   2. La oposición política explícita (contradestinatario)\n",
      "   3. La población argentina en general (paradestinatario)\n",
      "✔️ Lugar: Córdoba Córdoba Argentina\n",
      "\n",
      "✅ Archivo guardado como C:\\PROYECTOS\\Primer MVP1\\data\\A5. discursos_enunciacion.csv\n"
     ]
    },
    {
     "name": "stderr",
     "output_type": "stream",
     "text": [
      "\n"
     ]
    }
   ],
   "source": [
    "# Cargar dataset con resúmenes\n",
    "import pandas as pd\n",
    "import modulos.paths as paths\n",
    "\n",
    "df_discursos = pd.read_csv(paths.discursos_resumen, encoding=\"utf-8-sig\")\n",
    "\n",
    "# Procesar discursos con el LLM\n",
    "import modulos.prompts as prompts\n",
    "from modulos.tipos_discurso import diccionario_tipos_discurso\n",
    "from modulos.enunciacion import procesar_discursos_llm\n",
    "from modulos.modelo import llm\n",
    "df_resultado = procesar_discursos_llm(\n",
    "    df=df_discursos,\n",
    "    modelo_llm=llm,\n",
    "    diccionario=diccionario_tipos_discurso,\n",
    "    prompt_tipo=prompts.PROMPT_TIPO_DISCURSO,\n",
    "    prompt_enunciacion=prompts.PROMPT_ENUNCIACION,\n",
    "    prompt_lugar=prompts.PROMPT_LUGAR,\n",
    "    guardar_csv=True,\n",
    "    output_path=paths.discursos_enunc,\n",
    "    analizar_tipo=True,\n",
    "    analizar_enunc=True,\n",
    "    analizar_lug=True,\n",
    "    mostrar_prompts=True\n",
    ")"
   ]
  },
  {
   "cell_type": "markdown",
   "id": "8662aa31-b528-41ed-a18f-d12aaa65ac67",
   "metadata": {},
   "source": [
    "## 4.2. Identificación de actores con contexto enunciativo\n",
    "\n",
    "**identificar_actores_con_contexto:** Procesa una serie de recortes textuales para identificar actores relevantes mencionados en cada frase, excluyendo al enunciador y los enunciatarios previamente detectados. Para ello, utiliza un modelo de lenguaje (LLM) mediante la API de Ollama y un prompt estructurado que combina información del discurso de inscripción (resumen, fecha, lugar, tipo, enunciador y enunciatarios) con la frase objetivo y su contexto.\n",
    "\n",
    "Parámetros:\n",
    "- df_recortes (pd.DataFrame): DataFrame que contiene los recortes textuales a analizar. Debe incluir al menos las columnas 'frase', 'recorte_id' y 'codigo' (identificador del discurso de inscripción).\n",
    "- df_enunc (pd.DataFrame): DataFrame con los discursos completos y los resultados de la identificación enunciativa (enunciador, enunciatarios, tipo de discurso, lugar, etc.), asociados por la columna 'codigo'.\n",
    "- prompt_template (str): Prompt base con placeholders que será completado dinámicamente para cada recorte. Debe incluir:\n",
    "- a. {resumen_global}: Resumen del discurso de inscripción.\n",
    "- b. {fecha}: Fecha del discurso.\n",
    "- c. {lugar_justificacion}: Lugar del discurso (con justificación).\n",
    "- d. {tipo_discurso}: Tipo de discurso identificado.\n",
    "- e. {enunciador}: Enunciador del discurso.\n",
    "- f. {enunciatarios}: Enunciatarios identificados.\n",
    "- g. {frase}: Frase objetivo.\n",
    "- h. {frases_contexto}: Frases inmediatamente anteriores y posteriores a la frase objetivo.\n",
    "- i. {heuristicas}: Lista de reglas de inferencia válidas.\n",
    "- j. {ontologia}: Ontología de actores posibles (categorías permitidas para clasificación).\n",
    "- path_errores (str): Ruta del archivo donde se guardarán los errores o casos que no puedan procesarse correctamente.\n",
    "- output_path (str): Ruta del archivo donde se guardarán los resultados procesados en formato .csv.\n",
    "- modelo_llm (callable): Función o clase del modelo LLM configurado, que recibe el prompt como string y devuelve una respuesta.\n",
    "- mostrar_prompts (bool, opcional): Si es True, imprime el prompt generado para cada fragmento antes de enviarlo al modelo. Útil para debugging. Por defecto: False.\n",
    "- guardar_resultados (bool, opcional): Si es True, guarda el DataFrame resultante como CSV en output_path. Por defecto: True.\n",
    "\n",
    "Retorna:\n",
    "- pd.DataFrame: DataFrame original con columnas adicionales que contienen los actores identificados por frase (actor, tipo, modo, regla de inferencia), respetando el formato JSON indicado.\n",
    "\n",
    "Requiere:\n",
    "- Definición previa de los paths relevantes en el módulo modulos.paths.\n",
    "- Prompt base definido en modulos.prompts.PROMPT_IDENTIFICAR_ACTORES.\n",
    "- Preprocesamiento de enunciadores y enunciatarios mediante la función procesar_discursos_llm (u otra que genere df_enunc compatible)."
   ]
  },
  {
   "cell_type": "code",
   "execution_count": 1,
   "id": "2c815dcf-2337-4108-86e8-715068a327a9",
   "metadata": {},
   "outputs": [
    {
     "name": "stderr",
     "output_type": "stream",
     "text": [
      "C:\\ProgramData\\anaconda3\\envs\\ag_env2\\lib\\site-packages\\requests\\__init__.py:86: RequestsDependencyWarning: Unable to find acceptable character detection dependency (chardet or charset_normalizer).\n",
      "  warnings.warn(\n",
      "  0%|                                                                                                                                                                                                                | 0/10 [00:00<?, ?it/s]C:\\PROYECTOS\\Primer MVP1\\modulos\\identificacion_actores.py:98: LangChainDeprecationWarning: The method `BaseChatModel.__call__` was deprecated in langchain-core 0.1.7 and will be removed in 1.0. Use :meth:`~invoke` instead.\n",
      "  respuesta = modelo_llm([HumanMessage(content=prompt)]).content\n",
      "100%|███████████████████████████████████████████████████████████████████████████████████████████████████████████████████████████████████████████████████████████████████████████████████████████████████████| 10/10 [06:01<00:00, 36.11s/it]\n"
     ]
    }
   ],
   "source": [
    "import pandas as pd\n",
    "import modulos.paths as paths\n",
    "import modulos.prompts as prompts\n",
    "from modulos.identificacion_actores import identificar_actores_con_contexto\n",
    "from modulos.modelo import llm\n",
    "\n",
    "df_recortes = pd.read_csv(paths.recortes_prueba, encoding=\"utf-8-sig\")\n",
    "df_enunc = pd.read_csv(paths.discursos_enunc, encoding=\"utf-8-sig\")\n",
    "\n",
    "df_resultado = identificar_actores_con_contexto(\n",
    "    df_recortes=df_recortes,\n",
    "    df_enunc=df_enunc,\n",
    "    prompt_template=prompts.PROMPT_IDENTIFICAR_ACTORES,\n",
    "    path_errores=paths.errores_identificacion_actores,\n",
    "    output_path=paths.actores_identificados,\n",
    "    modelo_llm=llm,\n",
    "    mostrar_prompts=False,\n",
    "    guardar_resultados=True\n",
    ")"
   ]
  },
  {
   "cell_type": "code",
   "execution_count": 2,
   "id": "d8764eb3-8b04-42b9-a76a-def3c24bb308",
   "metadata": {},
   "outputs": [
    {
     "data": {
      "text/html": [
       "<div>\n",
       "<style scoped>\n",
       "    .dataframe tbody tr th:only-of-type {\n",
       "        vertical-align: middle;\n",
       "    }\n",
       "\n",
       "    .dataframe tbody tr th {\n",
       "        vertical-align: top;\n",
       "    }\n",
       "\n",
       "    .dataframe thead th {\n",
       "        text-align: right;\n",
       "    }\n",
       "</style>\n",
       "<table border=\"1\" class=\"dataframe\">\n",
       "  <thead>\n",
       "    <tr style=\"text-align: right;\">\n",
       "      <th></th>\n",
       "      <th>actor</th>\n",
       "      <th>tipo</th>\n",
       "      <th>modo</th>\n",
       "      <th>frase_idx</th>\n",
       "      <th>recorte_id</th>\n",
       "      <th>codigo</th>\n",
       "      <th>regla_de_inferencia</th>\n",
       "      <th>regla de inferencia</th>\n",
       "    </tr>\n",
       "  </thead>\n",
       "  <tbody>\n",
       "    <tr>\n",
       "      <th>0</th>\n",
       "      <td>audiencia</td>\n",
       "      <td>colectivo</td>\n",
       "      <td>explícito</td>\n",
       "      <td>0</td>\n",
       "      <td>DISCURSO_001_FR_001</td>\n",
       "      <td>DISCURSO_001</td>\n",
       "      <td>NaN</td>\n",
       "      <td>NaN</td>\n",
       "    </tr>\n",
       "    <tr>\n",
       "      <th>1</th>\n",
       "      <td>audiencia</td>\n",
       "      <td>colectivo</td>\n",
       "      <td>inferido</td>\n",
       "      <td>1</td>\n",
       "      <td>DISCURSO_001_FR_002</td>\n",
       "      <td>DISCURSO_001</td>\n",
       "      <td>4.0</td>\n",
       "      <td>NaN</td>\n",
       "    </tr>\n",
       "    <tr>\n",
       "      <th>2</th>\n",
       "      <td>audiencia</td>\n",
       "      <td>colectivo</td>\n",
       "      <td>inferido</td>\n",
       "      <td>2</td>\n",
       "      <td>DISCURSO_001_FR_003</td>\n",
       "      <td>DISCURSO_001</td>\n",
       "      <td>4.0</td>\n",
       "      <td>NaN</td>\n",
       "    </tr>\n",
       "    <tr>\n",
       "      <th>3</th>\n",
       "      <td>pingüino</td>\n",
       "      <td>humano_individual</td>\n",
       "      <td>inferido</td>\n",
       "      <td>3</td>\n",
       "      <td>DISCURSO_001_FR_004</td>\n",
       "      <td>DISCURSO_001</td>\n",
       "      <td>NaN</td>\n",
       "      <td>1.0</td>\n",
       "    </tr>\n",
       "    <tr>\n",
       "      <th>4</th>\n",
       "      <td>Javier Milei</td>\n",
       "      <td>humano_individual</td>\n",
       "      <td>explícito</td>\n",
       "      <td>4</td>\n",
       "      <td>DISCURSO_001_FR_005</td>\n",
       "      <td>DISCURSO_001</td>\n",
       "      <td>NaN</td>\n",
       "      <td>NaN</td>\n",
       "    </tr>\n",
       "    <tr>\n",
       "      <th>5</th>\n",
       "      <td>La derecha</td>\n",
       "      <td>colectivo</td>\n",
       "      <td>explícito</td>\n",
       "      <td>4</td>\n",
       "      <td>DISCURSO_001_FR_005</td>\n",
       "      <td>DISCURSO_001</td>\n",
       "      <td>NaN</td>\n",
       "      <td>NaN</td>\n",
       "    </tr>\n",
       "    <tr>\n",
       "      <th>6</th>\n",
       "      <td>La población argentina en general</td>\n",
       "      <td>colectivo</td>\n",
       "      <td>inferido</td>\n",
       "      <td>4</td>\n",
       "      <td>DISCURSO_001_FR_005</td>\n",
       "      <td>DISCURSO_001</td>\n",
       "      <td>NaN</td>\n",
       "      <td>1.0</td>\n",
       "    </tr>\n",
       "    <tr>\n",
       "      <th>7</th>\n",
       "      <td>Agustín Laje</td>\n",
       "      <td>humano_individual</td>\n",
       "      <td>explícito</td>\n",
       "      <td>5</td>\n",
       "      <td>DISCURSO_001_FR_006</td>\n",
       "      <td>DISCURSO_001</td>\n",
       "      <td>NaN</td>\n",
       "      <td>1.0</td>\n",
       "    </tr>\n",
       "    <tr>\n",
       "      <th>8</th>\n",
       "      <td>El equipo de La Derecha Diario</td>\n",
       "      <td>colectivo</td>\n",
       "      <td>explícito</td>\n",
       "      <td>5</td>\n",
       "      <td>DISCURSO_001_FR_006</td>\n",
       "      <td>DISCURSO_001</td>\n",
       "      <td>NaN</td>\n",
       "      <td>1.0</td>\n",
       "    </tr>\n",
       "    <tr>\n",
       "      <th>9</th>\n",
       "      <td>Javier Milei</td>\n",
       "      <td>humano_individual</td>\n",
       "      <td>explícito</td>\n",
       "      <td>6</td>\n",
       "      <td>DISCURSO_001_FR_007</td>\n",
       "      <td>DISCURSO_001</td>\n",
       "      <td>NaN</td>\n",
       "      <td>NaN</td>\n",
       "    </tr>\n",
       "    <tr>\n",
       "      <th>10</th>\n",
       "      <td>La derecha</td>\n",
       "      <td>colectivo</td>\n",
       "      <td>explícito</td>\n",
       "      <td>6</td>\n",
       "      <td>DISCURSO_001_FR_007</td>\n",
       "      <td>DISCURSO_001</td>\n",
       "      <td>NaN</td>\n",
       "      <td>NaN</td>\n",
       "    </tr>\n",
       "    <tr>\n",
       "      <th>11</th>\n",
       "      <td>expositores</td>\n",
       "      <td>colectivo</td>\n",
       "      <td>explícito</td>\n",
       "      <td>7</td>\n",
       "      <td>DISCURSO_001_FR_008</td>\n",
       "      <td>DISCURSO_001</td>\n",
       "      <td>NaN</td>\n",
       "      <td>NaN</td>\n",
       "    </tr>\n",
       "    <tr>\n",
       "      <th>12</th>\n",
       "      <td>audiencia</td>\n",
       "      <td>colectivo</td>\n",
       "      <td>inferido</td>\n",
       "      <td>7</td>\n",
       "      <td>DISCURSO_001_FR_008</td>\n",
       "      <td>DISCURSO_001</td>\n",
       "      <td>NaN</td>\n",
       "      <td>1.0</td>\n",
       "    </tr>\n",
       "    <tr>\n",
       "      <th>13</th>\n",
       "      <td>audiencia</td>\n",
       "      <td>colectivo</td>\n",
       "      <td>inferido</td>\n",
       "      <td>8</td>\n",
       "      <td>DISCURSO_001_FR_009</td>\n",
       "      <td>DISCURSO_001</td>\n",
       "      <td>4.0</td>\n",
       "      <td>NaN</td>\n",
       "    </tr>\n",
       "    <tr>\n",
       "      <th>14</th>\n",
       "      <td>La población argentina en general</td>\n",
       "      <td>colectivo</td>\n",
       "      <td>explícito</td>\n",
       "      <td>9</td>\n",
       "      <td>DISCURSO_001_FR_010</td>\n",
       "      <td>DISCURSO_001</td>\n",
       "      <td>NaN</td>\n",
       "      <td>NaN</td>\n",
       "    </tr>\n",
       "    <tr>\n",
       "      <th>15</th>\n",
       "      <td>El gobierno o el estado argentino</td>\n",
       "      <td>institucional</td>\n",
       "      <td>inferido</td>\n",
       "      <td>9</td>\n",
       "      <td>DISCURSO_001_FR_010</td>\n",
       "      <td>DISCURSO_001</td>\n",
       "      <td>1.0</td>\n",
       "      <td>NaN</td>\n",
       "    </tr>\n",
       "  </tbody>\n",
       "</table>\n",
       "</div>"
      ],
      "text/plain": [
       "                                actor               tipo       modo  \\\n",
       "0                           audiencia          colectivo  explícito   \n",
       "1                           audiencia          colectivo   inferido   \n",
       "2                           audiencia          colectivo   inferido   \n",
       "3                            pingüino  humano_individual   inferido   \n",
       "4                        Javier Milei  humano_individual  explícito   \n",
       "5                          La derecha          colectivo  explícito   \n",
       "6   La población argentina en general          colectivo   inferido   \n",
       "7                        Agustín Laje  humano_individual  explícito   \n",
       "8      El equipo de La Derecha Diario          colectivo  explícito   \n",
       "9                        Javier Milei  humano_individual  explícito   \n",
       "10                         La derecha          colectivo  explícito   \n",
       "11                        expositores          colectivo  explícito   \n",
       "12                          audiencia          colectivo   inferido   \n",
       "13                          audiencia          colectivo   inferido   \n",
       "14  La población argentina en general          colectivo  explícito   \n",
       "15  El gobierno o el estado argentino      institucional   inferido   \n",
       "\n",
       "    frase_idx           recorte_id        codigo  regla_de_inferencia  \\\n",
       "0           0  DISCURSO_001_FR_001  DISCURSO_001                  NaN   \n",
       "1           1  DISCURSO_001_FR_002  DISCURSO_001                  4.0   \n",
       "2           2  DISCURSO_001_FR_003  DISCURSO_001                  4.0   \n",
       "3           3  DISCURSO_001_FR_004  DISCURSO_001                  NaN   \n",
       "4           4  DISCURSO_001_FR_005  DISCURSO_001                  NaN   \n",
       "5           4  DISCURSO_001_FR_005  DISCURSO_001                  NaN   \n",
       "6           4  DISCURSO_001_FR_005  DISCURSO_001                  NaN   \n",
       "7           5  DISCURSO_001_FR_006  DISCURSO_001                  NaN   \n",
       "8           5  DISCURSO_001_FR_006  DISCURSO_001                  NaN   \n",
       "9           6  DISCURSO_001_FR_007  DISCURSO_001                  NaN   \n",
       "10          6  DISCURSO_001_FR_007  DISCURSO_001                  NaN   \n",
       "11          7  DISCURSO_001_FR_008  DISCURSO_001                  NaN   \n",
       "12          7  DISCURSO_001_FR_008  DISCURSO_001                  NaN   \n",
       "13          8  DISCURSO_001_FR_009  DISCURSO_001                  4.0   \n",
       "14          9  DISCURSO_001_FR_010  DISCURSO_001                  NaN   \n",
       "15          9  DISCURSO_001_FR_010  DISCURSO_001                  1.0   \n",
       "\n",
       "    regla de inferencia  \n",
       "0                   NaN  \n",
       "1                   NaN  \n",
       "2                   NaN  \n",
       "3                   1.0  \n",
       "4                   NaN  \n",
       "5                   NaN  \n",
       "6                   1.0  \n",
       "7                   1.0  \n",
       "8                   1.0  \n",
       "9                   NaN  \n",
       "10                  NaN  \n",
       "11                  NaN  \n",
       "12                  1.0  \n",
       "13                  NaN  \n",
       "14                  NaN  \n",
       "15                  NaN  "
      ]
     },
     "execution_count": 2,
     "metadata": {},
     "output_type": "execute_result"
    }
   ],
   "source": [
    "df_actores = pd.read_csv(\"data/C1. actores_identificados.csv\", encoding=\"utf-8-sig\")\n",
    "\n",
    "df_actores.head(20)"
   ]
  },
  {
   "cell_type": "code",
   "execution_count": null,
   "id": "d6e5b43d-6402-434e-8b1a-276437c15c67",
   "metadata": {},
   "outputs": [],
   "source": []
  },
  {
   "cell_type": "code",
   "execution_count": 1,
   "id": "306247c1-67d4-4407-9f0a-e98341139536",
   "metadata": {},
   "outputs": [
    {
     "name": "stderr",
     "output_type": "stream",
     "text": [
      "C:\\ProgramData\\anaconda3\\envs\\ag_env2\\lib\\site-packages\\requests\\__init__.py:86: RequestsDependencyWarning: Unable to find acceptable character detection dependency (chardet or charset_normalizer).\n",
      "  warnings.warn(\n"
     ]
    },
    {
     "name": "stdout",
     "output_type": "stream",
     "text": [
      "🔁 Reprocesando 1 errores...\n"
     ]
    },
    {
     "name": "stderr",
     "output_type": "stream",
     "text": [
      "C:\\PROYECTOS\\Primer MVP1\\modulos\\identificacion_actores.py:98: LangChainDeprecationWarning: The method `BaseChatModel.__call__` was deprecated in langchain-core 0.1.7 and will be removed in 1.0. Use :meth:`~invoke` instead.\n",
      "  respuesta = modelo_llm([HumanMessage(content=prompt)]).content\n"
     ]
    },
    {
     "name": "stdout",
     "output_type": "stream",
     "text": [
      "✅ Agregados 1 nuevos registros a 'C:\\PROYECTOS\\Primer MVP1\\errores\\errores_persistentes.jsonl'\n",
      "✅ Todos los errores fueron corregidos.\n"
     ]
    }
   ],
   "source": [
    "# 3. Reprocesamiento de errores HAY QUE REVISARLA DE NUEVO POR INCOMPATIBILIDADES POSIBLES\n",
    "\n",
    "import pandas as pd\n",
    "import modulos.paths as paths\n",
    "import modulos.prompts as prompts\n",
    "from modulos.identificacion_actores import reprocesar_errores_identificacion\n",
    "from modulos.modelo import llm\n",
    "\n",
    "df_enunc = pd.read_csv(paths.discursos_enunc, encoding=\"utf-8-sig\")\n",
    "df_recortes = pd.read_csv(paths.recortes_prueba, encoding=\"utf-8-sig\")\n",
    "\n",
    "reprocesar_errores_identificacion(\n",
    "    df_recortes=df_recortes,\n",
    "    df_enunc=df_enunc,\n",
    "    path_errores=paths.errores_identificacion_actores,\n",
    "    path_salida=paths.errores_persistentes,\n",
    "    prompt_template=prompts.PROMPT_IDENTIFICAR_ACTORES,\n",
    "    intento=1,\n",
    "    evitar_duplicados=True,\n",
    "    modelo_llm=llm,\n",
    "    mostrar_prompts=False\n",
    ")"
   ]
  },
  {
   "cell_type": "code",
   "execution_count": 2,
   "id": "30e4edbd-a6bd-4880-b2c6-d318507e973f",
   "metadata": {},
   "outputs": [
    {
     "data": {
      "text/html": [
       "<div>\n",
       "<style scoped>\n",
       "    .dataframe tbody tr th:only-of-type {\n",
       "        vertical-align: middle;\n",
       "    }\n",
       "\n",
       "    .dataframe tbody tr th {\n",
       "        vertical-align: top;\n",
       "    }\n",
       "\n",
       "    .dataframe thead th {\n",
       "        text-align: right;\n",
       "    }\n",
       "</style>\n",
       "<table border=\"1\" class=\"dataframe\">\n",
       "  <thead>\n",
       "    <tr style=\"text-align: right;\">\n",
       "      <th></th>\n",
       "      <th>actor</th>\n",
       "      <th>tipo</th>\n",
       "      <th>modo</th>\n",
       "      <th>frase_idx</th>\n",
       "      <th>recorte_id</th>\n",
       "      <th>codigo</th>\n",
       "      <th>regla_de_inferencia</th>\n",
       "      <th>regla de inferencia</th>\n",
       "    </tr>\n",
       "  </thead>\n",
       "  <tbody>\n",
       "    <tr>\n",
       "      <th>0</th>\n",
       "      <td>audiencia</td>\n",
       "      <td>colectivo</td>\n",
       "      <td>explícito</td>\n",
       "      <td>0</td>\n",
       "      <td>DISCURSO_001_FR_001</td>\n",
       "      <td>DISCURSO_001</td>\n",
       "      <td>NaN</td>\n",
       "      <td>NaN</td>\n",
       "    </tr>\n",
       "    <tr>\n",
       "      <th>1</th>\n",
       "      <td>audiencia</td>\n",
       "      <td>colectivo</td>\n",
       "      <td>inferido</td>\n",
       "      <td>1</td>\n",
       "      <td>DISCURSO_001_FR_002</td>\n",
       "      <td>DISCURSO_001</td>\n",
       "      <td>4.0</td>\n",
       "      <td>NaN</td>\n",
       "    </tr>\n",
       "    <tr>\n",
       "      <th>2</th>\n",
       "      <td>audiencia</td>\n",
       "      <td>colectivo</td>\n",
       "      <td>inferido</td>\n",
       "      <td>2</td>\n",
       "      <td>DISCURSO_001_FR_003</td>\n",
       "      <td>DISCURSO_001</td>\n",
       "      <td>4.0</td>\n",
       "      <td>NaN</td>\n",
       "    </tr>\n",
       "    <tr>\n",
       "      <th>3</th>\n",
       "      <td>pingüino</td>\n",
       "      <td>humano_individual</td>\n",
       "      <td>inferido</td>\n",
       "      <td>3</td>\n",
       "      <td>DISCURSO_001_FR_004</td>\n",
       "      <td>DISCURSO_001</td>\n",
       "      <td>NaN</td>\n",
       "      <td>1.0</td>\n",
       "    </tr>\n",
       "    <tr>\n",
       "      <th>4</th>\n",
       "      <td>Javier Milei</td>\n",
       "      <td>humano_individual</td>\n",
       "      <td>explícito</td>\n",
       "      <td>4</td>\n",
       "      <td>DISCURSO_001_FR_005</td>\n",
       "      <td>DISCURSO_001</td>\n",
       "      <td>NaN</td>\n",
       "      <td>NaN</td>\n",
       "    </tr>\n",
       "    <tr>\n",
       "      <th>5</th>\n",
       "      <td>La derecha</td>\n",
       "      <td>colectivo</td>\n",
       "      <td>explícito</td>\n",
       "      <td>4</td>\n",
       "      <td>DISCURSO_001_FR_005</td>\n",
       "      <td>DISCURSO_001</td>\n",
       "      <td>NaN</td>\n",
       "      <td>NaN</td>\n",
       "    </tr>\n",
       "    <tr>\n",
       "      <th>6</th>\n",
       "      <td>La población argentina en general</td>\n",
       "      <td>colectivo</td>\n",
       "      <td>inferido</td>\n",
       "      <td>4</td>\n",
       "      <td>DISCURSO_001_FR_005</td>\n",
       "      <td>DISCURSO_001</td>\n",
       "      <td>NaN</td>\n",
       "      <td>1.0</td>\n",
       "    </tr>\n",
       "    <tr>\n",
       "      <th>7</th>\n",
       "      <td>Agustín Laje</td>\n",
       "      <td>humano_individual</td>\n",
       "      <td>explícito</td>\n",
       "      <td>5</td>\n",
       "      <td>DISCURSO_001_FR_006</td>\n",
       "      <td>DISCURSO_001</td>\n",
       "      <td>NaN</td>\n",
       "      <td>1.0</td>\n",
       "    </tr>\n",
       "    <tr>\n",
       "      <th>8</th>\n",
       "      <td>El equipo de La Derecha Diario</td>\n",
       "      <td>colectivo</td>\n",
       "      <td>explícito</td>\n",
       "      <td>5</td>\n",
       "      <td>DISCURSO_001_FR_006</td>\n",
       "      <td>DISCURSO_001</td>\n",
       "      <td>NaN</td>\n",
       "      <td>1.0</td>\n",
       "    </tr>\n",
       "    <tr>\n",
       "      <th>9</th>\n",
       "      <td>Javier Milei</td>\n",
       "      <td>humano_individual</td>\n",
       "      <td>explícito</td>\n",
       "      <td>6</td>\n",
       "      <td>DISCURSO_001_FR_007</td>\n",
       "      <td>DISCURSO_001</td>\n",
       "      <td>NaN</td>\n",
       "      <td>NaN</td>\n",
       "    </tr>\n",
       "    <tr>\n",
       "      <th>10</th>\n",
       "      <td>La derecha</td>\n",
       "      <td>colectivo</td>\n",
       "      <td>explícito</td>\n",
       "      <td>6</td>\n",
       "      <td>DISCURSO_001_FR_007</td>\n",
       "      <td>DISCURSO_001</td>\n",
       "      <td>NaN</td>\n",
       "      <td>NaN</td>\n",
       "    </tr>\n",
       "    <tr>\n",
       "      <th>11</th>\n",
       "      <td>expositores</td>\n",
       "      <td>colectivo</td>\n",
       "      <td>explícito</td>\n",
       "      <td>7</td>\n",
       "      <td>DISCURSO_001_FR_008</td>\n",
       "      <td>DISCURSO_001</td>\n",
       "      <td>NaN</td>\n",
       "      <td>NaN</td>\n",
       "    </tr>\n",
       "    <tr>\n",
       "      <th>12</th>\n",
       "      <td>audiencia</td>\n",
       "      <td>colectivo</td>\n",
       "      <td>inferido</td>\n",
       "      <td>7</td>\n",
       "      <td>DISCURSO_001_FR_008</td>\n",
       "      <td>DISCURSO_001</td>\n",
       "      <td>NaN</td>\n",
       "      <td>1.0</td>\n",
       "    </tr>\n",
       "    <tr>\n",
       "      <th>13</th>\n",
       "      <td>audiencia</td>\n",
       "      <td>colectivo</td>\n",
       "      <td>inferido</td>\n",
       "      <td>8</td>\n",
       "      <td>DISCURSO_001_FR_009</td>\n",
       "      <td>DISCURSO_001</td>\n",
       "      <td>4.0</td>\n",
       "      <td>NaN</td>\n",
       "    </tr>\n",
       "    <tr>\n",
       "      <th>14</th>\n",
       "      <td>La población argentina en general</td>\n",
       "      <td>colectivo</td>\n",
       "      <td>explícito</td>\n",
       "      <td>9</td>\n",
       "      <td>DISCURSO_001_FR_010</td>\n",
       "      <td>DISCURSO_001</td>\n",
       "      <td>NaN</td>\n",
       "      <td>NaN</td>\n",
       "    </tr>\n",
       "    <tr>\n",
       "      <th>15</th>\n",
       "      <td>El gobierno o el estado argentino</td>\n",
       "      <td>institucional</td>\n",
       "      <td>inferido</td>\n",
       "      <td>9</td>\n",
       "      <td>DISCURSO_001_FR_010</td>\n",
       "      <td>DISCURSO_001</td>\n",
       "      <td>1.0</td>\n",
       "      <td>NaN</td>\n",
       "    </tr>\n",
       "  </tbody>\n",
       "</table>\n",
       "</div>"
      ],
      "text/plain": [
       "                                actor               tipo       modo  \\\n",
       "0                           audiencia          colectivo  explícito   \n",
       "1                           audiencia          colectivo   inferido   \n",
       "2                           audiencia          colectivo   inferido   \n",
       "3                            pingüino  humano_individual   inferido   \n",
       "4                        Javier Milei  humano_individual  explícito   \n",
       "5                          La derecha          colectivo  explícito   \n",
       "6   La población argentina en general          colectivo   inferido   \n",
       "7                        Agustín Laje  humano_individual  explícito   \n",
       "8      El equipo de La Derecha Diario          colectivo  explícito   \n",
       "9                        Javier Milei  humano_individual  explícito   \n",
       "10                         La derecha          colectivo  explícito   \n",
       "11                        expositores          colectivo  explícito   \n",
       "12                          audiencia          colectivo   inferido   \n",
       "13                          audiencia          colectivo   inferido   \n",
       "14  La población argentina en general          colectivo  explícito   \n",
       "15  El gobierno o el estado argentino      institucional   inferido   \n",
       "\n",
       "    frase_idx           recorte_id        codigo  regla_de_inferencia  \\\n",
       "0           0  DISCURSO_001_FR_001  DISCURSO_001                  NaN   \n",
       "1           1  DISCURSO_001_FR_002  DISCURSO_001                  4.0   \n",
       "2           2  DISCURSO_001_FR_003  DISCURSO_001                  4.0   \n",
       "3           3  DISCURSO_001_FR_004  DISCURSO_001                  NaN   \n",
       "4           4  DISCURSO_001_FR_005  DISCURSO_001                  NaN   \n",
       "5           4  DISCURSO_001_FR_005  DISCURSO_001                  NaN   \n",
       "6           4  DISCURSO_001_FR_005  DISCURSO_001                  NaN   \n",
       "7           5  DISCURSO_001_FR_006  DISCURSO_001                  NaN   \n",
       "8           5  DISCURSO_001_FR_006  DISCURSO_001                  NaN   \n",
       "9           6  DISCURSO_001_FR_007  DISCURSO_001                  NaN   \n",
       "10          6  DISCURSO_001_FR_007  DISCURSO_001                  NaN   \n",
       "11          7  DISCURSO_001_FR_008  DISCURSO_001                  NaN   \n",
       "12          7  DISCURSO_001_FR_008  DISCURSO_001                  NaN   \n",
       "13          8  DISCURSO_001_FR_009  DISCURSO_001                  4.0   \n",
       "14          9  DISCURSO_001_FR_010  DISCURSO_001                  NaN   \n",
       "15          9  DISCURSO_001_FR_010  DISCURSO_001                  1.0   \n",
       "\n",
       "    regla de inferencia  \n",
       "0                   NaN  \n",
       "1                   NaN  \n",
       "2                   NaN  \n",
       "3                   1.0  \n",
       "4                   NaN  \n",
       "5                   NaN  \n",
       "6                   1.0  \n",
       "7                   1.0  \n",
       "8                   1.0  \n",
       "9                   NaN  \n",
       "10                  NaN  \n",
       "11                  NaN  \n",
       "12                  1.0  \n",
       "13                  NaN  \n",
       "14                  NaN  \n",
       "15                  NaN  "
      ]
     },
     "execution_count": 2,
     "metadata": {},
     "output_type": "execute_result"
    }
   ],
   "source": [
    "df_actores = pd.read_csv(\"data/C1. actores_identificados.csv\", encoding=\"utf-8-sig\")\n",
    "\n",
    "df_actores.head(30)"
   ]
  },
  {
   "cell_type": "code",
   "execution_count": 1,
   "id": "fad4ae2c-b15e-40a2-b380-b8ab8498b49c",
   "metadata": {},
   "outputs": [
    {
     "name": "stderr",
     "output_type": "stream",
     "text": [
      "C:\\ProgramData\\anaconda3\\envs\\ag_env2\\lib\\site-packages\\requests\\__init__.py:86: RequestsDependencyWarning: Unable to find acceptable character detection dependency (chardet or charset_normalizer).\n",
      "  warnings.warn(\n",
      "Procesando recortes:   0%|                                                                      | 0/10 [00:00<?, ?it/s]\n",
      "Validando actores recorte DISCURSO_001_FR_001:   0%|                                             | 0/1 [00:00<?, ?it/s]\u001b[AC:\\PROYECTOS\\Primer MVP1\\modulos\\identificacion_actores.py:232: LangChainDeprecationWarning: The method `BaseChatModel.__call__` was deprecated in langchain-core 0.1.7 and will be removed in 1.0. Use :meth:`~invoke` instead.\n",
      "  respuesta = llm([HumanMessage(content=prompt)]).content\n",
      "\n",
      "Validando actores recorte DISCURSO_001_FR_001: 100%|█████████████████████████████████████| 1/1 [00:11<00:00, 11.48s/it]\u001b[A\n",
      "Procesando recortes:  10%|██████▏                                                       | 1/10 [00:11<01:43, 11.48s/it]\u001b[A"
     ]
    },
    {
     "name": "stdout",
     "output_type": "stream",
     "text": [
      "DISCURSO_001_FR_001 - todos: ✅ válido\n"
     ]
    },
    {
     "name": "stderr",
     "output_type": "stream",
     "text": [
      "\n",
      "Validando actores recorte DISCURSO_001_FR_002:   0%|                                             | 0/3 [00:00<?, ?it/s]\u001b[A\n",
      "Validando actores recorte DISCURSO_001_FR_002:  33%|████████████▎                        | 1/3 [00:04<00:09,  4.69s/it]\u001b[A"
     ]
    },
    {
     "name": "stdout",
     "output_type": "stream",
     "text": [
      "DISCURSO_001_FR_002 - Carlos Pellegrini: ✅ válido\n"
     ]
    },
    {
     "name": "stderr",
     "output_type": "stream",
     "text": [
      "\n",
      "Validando actores recorte DISCURSO_001_FR_002:  67%|████████████████████████▋            | 2/3 [00:08<00:03,  3.94s/it]\u001b[A"
     ]
    },
    {
     "name": "stdout",
     "output_type": "stream",
     "text": [
      "DISCURSO_001_FR_002 - La institución centenaria fundada por Carlos Pellegrini: ✅ válido\n"
     ]
    },
    {
     "name": "stderr",
     "output_type": "stream",
     "text": [
      "\n",
      "Validando actores recorte DISCURSO_001_FR_002: 100%|█████████████████████████████████████| 3/3 [00:12<00:00,  4.34s/it]\u001b[A\n",
      "Procesando recortes:  20%|████████████▍                                                 | 2/10 [00:24<01:38, 12.33s/it]\u001b[A"
     ]
    },
    {
     "name": "stdout",
     "output_type": "stream",
     "text": [
      "DISCURSO_001_FR_002 - Nuestro país: ✅ válido\n"
     ]
    },
    {
     "name": "stderr",
     "output_type": "stream",
     "text": [
      "\n",
      "Validando actores recorte DISCURSO_001_FR_003:   0%|                                             | 0/2 [00:00<?, ?it/s]\u001b[A\n",
      "Validando actores recorte DISCURSO_001_FR_003:  50%|██████████████████▌                  | 1/2 [00:03<00:03,  3.72s/it]\u001b[A"
     ]
    },
    {
     "name": "stdout",
     "output_type": "stream",
     "text": [
      "DISCURSO_001_FR_003 - Carlos Pellegrini: ✅ válido\n"
     ]
    },
    {
     "name": "stderr",
     "output_type": "stream",
     "text": [
      "\n",
      "Validando actores recorte DISCURSO_001_FR_003: 100%|█████████████████████████████████████| 2/2 [00:07<00:00,  3.66s/it]\u001b[A\n",
      "Procesando recortes:  30%|██████████████████▌                                           | 3/10 [00:31<01:10, 10.05s/it]\u001b[A"
     ]
    },
    {
     "name": "stdout",
     "output_type": "stream",
     "text": [
      "DISCURSO_001_FR_003 - El discurso: ❌ excluido\n"
     ]
    },
    {
     "name": "stderr",
     "output_type": "stream",
     "text": [
      "\n",
      "Validando actores recorte DISCURSO_001_FR_004:   0%|                                             | 0/3 [00:00<?, ?it/s]\u001b[A\n",
      "Validando actores recorte DISCURSO_001_FR_004:  33%|████████████▎                        | 1/3 [00:03<00:07,  3.72s/it]\u001b[A"
     ]
    },
    {
     "name": "stdout",
     "output_type": "stream",
     "text": [
      "DISCURSO_001_FR_004 - La Libertad Avanza: ✅ válido\n"
     ]
    },
    {
     "name": "stderr",
     "output_type": "stream",
     "text": [
      "\n",
      "Validando actores recorte DISCURSO_001_FR_004:  67%|████████████████████████▋            | 2/3 [00:07<00:03,  3.53s/it]\u001b[A"
     ]
    },
    {
     "name": "stdout",
     "output_type": "stream",
     "text": [
      "DISCURSO_001_FR_004 - Doctor Carlos Pellegrini: ✅ válido\n"
     ]
    },
    {
     "name": "stderr",
     "output_type": "stream",
     "text": [
      "\n",
      "Validando actores recorte DISCURSO_001_FR_004: 100%|█████████████████████████████████████| 3/3 [00:10<00:00,  3.47s/it]\u001b[A\n",
      "Procesando recortes:  40%|████████████████████████▊                                     | 4/10 [00:42<01:01, 10.23s/it]\u001b[A"
     ]
    },
    {
     "name": "stdout",
     "output_type": "stream",
     "text": [
      "DISCURSO_001_FR_004 - Gobierno nacional: ✅ válido\n"
     ]
    },
    {
     "name": "stderr",
     "output_type": "stream",
     "text": [
      "\n",
      "Validando actores recorte DISCURSO_001_FR_005:   0%|                                             | 0/2 [00:00<?, ?it/s]\u001b[A\n",
      "Validando actores recorte DISCURSO_001_FR_005:  50%|██████████████████▌                  | 1/2 [00:03<00:03,  3.71s/it]\u001b[A"
     ]
    },
    {
     "name": "stdout",
     "output_type": "stream",
     "text": [
      "DISCURSO_001_FR_005 - Argentina: ✅ válido\n"
     ]
    },
    {
     "name": "stderr",
     "output_type": "stream",
     "text": [
      "\n",
      "Validando actores recorte DISCURSO_001_FR_005: 100%|█████████████████████████████████████| 2/2 [00:07<00:00,  3.66s/it]\u001b[A\n",
      "Procesando recortes:  50%|███████████████████████████████                               | 5/10 [00:49<00:45,  9.19s/it]\u001b[A"
     ]
    },
    {
     "name": "stdout",
     "output_type": "stream",
     "text": [
      "DISCURSO_001_FR_005 - El proceso de reconstrucción nacional: ❌ excluido\n"
     ]
    },
    {
     "name": "stderr",
     "output_type": "stream",
     "text": [
      "\n",
      "Validando actores recorte DISCURSO_001_FR_006:   0%|                                             | 0/2 [00:00<?, ?it/s]\u001b[A\n",
      "Validando actores recorte DISCURSO_001_FR_006:  50%|██████████████████▌                  | 1/2 [00:03<00:03,  3.36s/it]\u001b[A"
     ]
    },
    {
     "name": "stdout",
     "output_type": "stream",
     "text": [
      "DISCURSO_001_FR_006 - Pellegrini: ✅ válido\n"
     ]
    },
    {
     "name": "stderr",
     "output_type": "stream",
     "text": [
      "\n",
      "Validando actores recorte DISCURSO_001_FR_006: 100%|█████████████████████████████████████| 2/2 [00:06<00:00,  3.46s/it]\u001b[A\n",
      "Procesando recortes:  60%|█████████████████████████████████████▏                        | 6/10 [00:56<00:33,  8.41s/it]\u001b[A"
     ]
    },
    {
     "name": "stdout",
     "output_type": "stream",
     "text": [
      "DISCURSO_001_FR_006 - El que hace lo que hay que hacer: ❌ excluido\n"
     ]
    },
    {
     "name": "stderr",
     "output_type": "stream",
     "text": [
      "\n",
      "Validando actores recorte DISCURSO_001_FR_007:   0%|                                             | 0/3 [00:00<?, ?it/s]\u001b[A\n",
      "Validando actores recorte DISCURSO_001_FR_007:  33%|████████████▎                        | 1/3 [00:03<00:07,  3.95s/it]\u001b[A"
     ]
    },
    {
     "name": "stdout",
     "output_type": "stream",
     "text": [
      "DISCURSO_001_FR_007 - los tiempos: ❌ excluido\n"
     ]
    },
    {
     "name": "stderr",
     "output_type": "stream",
     "text": [
      "\n",
      "Validando actores recorte DISCURSO_001_FR_007:  67%|████████████████████████▋            | 2/3 [00:07<00:03,  3.76s/it]\u001b[A"
     ]
    },
    {
     "name": "stdout",
     "output_type": "stream",
     "text": [
      "DISCURSO_001_FR_007 - la información: ❌ excluido\n"
     ]
    },
    {
     "name": "stderr",
     "output_type": "stream",
     "text": [
      "\n",
      "Validando actores recorte DISCURSO_001_FR_007: 100%|█████████████████████████████████████| 3/3 [00:11<00:00,  3.71s/it]\u001b[A\n",
      "Procesando recortes:  70%|███████████████████████████████████████████▍                  | 7/10 [01:07<00:27,  9.33s/it]\u001b[A"
     ]
    },
    {
     "name": "stdout",
     "output_type": "stream",
     "text": [
      "DISCURSO_001_FR_007 - las cosas que había que hacerse: ❌ excluido\n"
     ]
    },
    {
     "name": "stderr",
     "output_type": "stream",
     "text": [
      "\n",
      "Validando actores recorte DISCURSO_001_FR_008:   0%|                                             | 0/4 [00:00<?, ?it/s]\u001b[A\n",
      "Validando actores recorte DISCURSO_001_FR_008:  25%|█████████▎                           | 1/4 [00:03<00:11,  3.78s/it]\u001b[A"
     ]
    },
    {
     "name": "stdout",
     "output_type": "stream",
     "text": [
      "DISCURSO_001_FR_008 - Carlos Pellegrini: ✅ válido\n"
     ]
    },
    {
     "name": "stderr",
     "output_type": "stream",
     "text": [
      "\n",
      "Validando actores recorte DISCURSO_001_FR_008:  50%|██████████████████▌                  | 2/4 [00:07<00:07,  3.56s/it]\u001b[A"
     ]
    },
    {
     "name": "stdout",
     "output_type": "stream",
     "text": [
      "DISCURSO_001_FR_008 - un asistente de Carlos Pellegrini: ✅ válido\n"
     ]
    },
    {
     "name": "stderr",
     "output_type": "stream",
     "text": [
      "\n",
      "Validando actores recorte DISCURSO_001_FR_008:  75%|███████████████████████████▊         | 3/4 [00:10<00:03,  3.48s/it]\u001b[A"
     ]
    },
    {
     "name": "stdout",
     "output_type": "stream",
     "text": [
      "DISCURSO_001_FR_008 - gente: ✅ válido\n"
     ]
    },
    {
     "name": "stderr",
     "output_type": "stream",
     "text": [
      "\n",
      "Validando actores recorte DISCURSO_001_FR_008: 100%|█████████████████████████████████████| 4/4 [00:13<00:00,  3.46s/it]\u001b[A\n",
      "Procesando recortes:  80%|█████████████████████████████████████████████████▌            | 8/10 [01:21<00:21, 10.81s/it]\u001b[A"
     ]
    },
    {
     "name": "stdout",
     "output_type": "stream",
     "text": [
      "DISCURSO_001_FR_008 - Congreso: ✅ válido\n"
     ]
    },
    {
     "name": "stderr",
     "output_type": "stream",
     "text": [
      "\n",
      "Validando actores recorte DISCURSO_001_FR_009:   0%|                                             | 0/2 [00:00<?, ?it/s]\u001b[A\n",
      "Validando actores recorte DISCURSO_001_FR_009:  50%|██████████████████▌                  | 1/2 [00:03<00:03,  3.77s/it]\u001b[A"
     ]
    },
    {
     "name": "stdout",
     "output_type": "stream",
     "text": [
      "DISCURSO_001_FR_009 - Carlos Pellegrini: ✅ válido\n"
     ]
    },
    {
     "name": "stderr",
     "output_type": "stream",
     "text": [
      "\n",
      "Validando actores recorte DISCURSO_001_FR_009: 100%|█████████████████████████████████████| 2/2 [00:07<00:00,  3.55s/it]\u001b[A\n",
      "Procesando recortes:  90%|███████████████████████████████████████████████████████▊      | 9/10 [01:28<00:09,  9.67s/it]\u001b[A"
     ]
    },
    {
     "name": "stdout",
     "output_type": "stream",
     "text": [
      "DISCURSO_001_FR_009 - gente: ✅ válido\n"
     ]
    },
    {
     "name": "stderr",
     "output_type": "stream",
     "text": [
      "\n",
      "Validando actores recorte DISCURSO_001_FR_010:   0%|                                             | 0/2 [00:00<?, ?it/s]\u001b[A\n",
      "Validando actores recorte DISCURSO_001_FR_010:  50%|██████████████████▌                  | 1/2 [00:03<00:03,  3.38s/it]\u001b[A"
     ]
    },
    {
     "name": "stdout",
     "output_type": "stream",
     "text": [
      "DISCURSO_001_FR_010 - Pellegrini: ✅ válido\n"
     ]
    },
    {
     "name": "stderr",
     "output_type": "stream",
     "text": [
      "\n",
      "Validando actores recorte DISCURSO_001_FR_010: 100%|█████████████████████████████████████| 2/2 [00:06<00:00,  3.48s/it]\u001b[A\n",
      "Procesando recortes: 100%|█████████████████████████████████████████████████████████████| 10/10 [01:35<00:00,  9.58s/it]\u001b[A"
     ]
    },
    {
     "name": "stdout",
     "output_type": "stream",
     "text": [
      "DISCURSO_001_FR_010 - la historia: ❌ excluido\n",
      "✅ Guardados 17 actores validados en 'data/actores_validos.csv'\n",
      "📄 Guardados 7 actores excluidos en 'data/actores_excluidos.csv'\n"
     ]
    },
    {
     "name": "stderr",
     "output_type": "stream",
     "text": [
      "\n"
     ]
    }
   ],
   "source": [
    "# 4. Postprocesamiento\n",
    "\n",
    "from modulos.identificacion_actores import validacion_actores\n",
    "\n",
    "path_df_actores = \"data/actores_identificados.csv\"\n",
    "path_df_recortes = \"data/recortes_preprocesado_10.csv\"\n",
    "path_salida_validos = \"data/actores_validos.csv\"\n",
    "path_salida_excluidos = \"data/actores_excluidos.csv\"\n",
    "\n",
    "validacion_actores(\n",
    "    path_df_actores=path_df_actores,\n",
    "    path_df_recortes=path_df_recortes,\n",
    "    path_salida_validos=path_salida_validos,\n",
    "    path_salida_excluidos=path_salida_excluidos\n",
    ")"
   ]
  },
  {
   "cell_type": "code",
   "execution_count": null,
   "id": "cf3eaaa9-d5a5-47da-a53a-3e60a19a1921",
   "metadata": {},
   "outputs": [],
   "source": []
  }
 ],
 "metadata": {
  "kernelspec": {
   "display_name": "Python 3 (ipykernel)",
   "language": "python",
   "name": "python3"
  },
  "language_info": {
   "codemirror_mode": {
    "name": "ipython",
    "version": 3
   },
   "file_extension": ".py",
   "mimetype": "text/x-python",
   "name": "python",
   "nbconvert_exporter": "python",
   "pygments_lexer": "ipython3",
   "version": "3.10.18"
  }
 },
 "nbformat": 4,
 "nbformat_minor": 5
}
